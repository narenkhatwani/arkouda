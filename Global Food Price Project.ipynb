{
 "cells": [
  {
   "cell_type": "markdown",
   "metadata": {},
   "source": [
    "# 1. Read the Data"
   ]
  },
  {
   "cell_type": "markdown",
   "metadata": {},
   "source": [
    "## Printing the first few values from the DataSet"
   ]
  },
  {
   "cell_type": "code",
   "execution_count": 2,
   "metadata": {
    "scrolled": false
   },
   "outputs": [
    {
     "name": "stdout",
     "output_type": "stream",
     "text": [
      "adm0_id,adm0_name,adm1_id,adm1_name,mkt_id,mkt_name,cm_id,cm_name,cur_id,cur_name,pt_id,pt_name,um_id,um_name,mp_month,mp_year,mp_price,mp_commoditysource\r\n",
      "1,Afghanistan,272,Badakhshan,266,Fayzabad,55,Bread,87,AFN,15,Retail,5,KG,1,2014,50.0,WFP\r\n",
      "1,Afghanistan,272,Badakhshan,266,Fayzabad,55,Bread,87,AFN,15,Retail,5,KG,2,2014,50.0,WFP\r\n",
      "1,Afghanistan,272,Badakhshan,266,Fayzabad,55,Bread,87,AFN,15,Retail,5,KG,3,2014,50.0,WFP\r\n",
      "1,Afghanistan,272,Badakhshan,266,Fayzabad,55,Bread,87,AFN,15,Retail,5,KG,4,2014,50.0,WFP\r\n",
      "1,Afghanistan,272,Badakhshan,266,Fayzabad,55,Bread,87,AFN,15,Retail,5,KG,5,2014,50.0,WFP\r\n",
      "1,Afghanistan,272,Badakhshan,266,Fayzabad,55,Bread,87,AFN,15,Retail,5,KG,6,2014,50.0,WFP\r\n",
      "1,Afghanistan,272,Badakhshan,266,Fayzabad,55,Bread,87,AFN,15,Retail,5,KG,7,2014,50.0,WFP\r\n",
      "1,Afghanistan,272,Badakhshan,266,Fayzabad,55,Bread,87,AFN,15,Retail,5,KG,8,2014,50.0,WFP\r\n",
      "1,Afghanistan,272,Badakhshan,266,Fayzabad,55,Bread,87,AFN,15,Retail,5,KG,9,2014,50.0,WFP\r\n"
     ]
    }
   ],
   "source": [
    "!head /Users/narenkhatwani/Documents/GitHub/arkouda/Notebooks/Resources/wfp_market_food_prices.csv"
   ]
  },
  {
   "cell_type": "markdown",
   "metadata": {},
   "source": [
    "## Checking the encoding of the csv file, resolved the partial encoding error"
   ]
  },
  {
   "cell_type": "code",
   "execution_count": 3,
   "metadata": {},
   "outputs": [
    {
     "data": {
      "text/plain": [
       "{'encoding': 'UTF-8-SIG', 'confidence': 1.0, 'language': ''}"
      ]
     },
     "execution_count": 3,
     "metadata": {},
     "output_type": "execute_result"
    }
   ],
   "source": [
    "import chardet\n",
    "\n",
    "with open(\"/Users/narenkhatwani/Documents/GitHub/arkouda/Notebooks/Resources/wfpvam_foodprices_utf8.csv\", 'rb') as rawdata:\n",
    "    result = chardet.detect(rawdata.read(100000))\n",
    "result\n"
   ]
  },
  {
   "cell_type": "markdown",
   "metadata": {},
   "source": [
    "## Reading the csv file and creating a dataframe"
   ]
  },
  {
   "cell_type": "code",
   "execution_count": 4,
   "metadata": {},
   "outputs": [
    {
     "name": "stderr",
     "output_type": "stream",
     "text": [
      "/Users/narenkhatwani/opt/anaconda3/lib/python3.8/site-packages/IPython/core/interactiveshell.py:3071: DtypeWarning: Columns (3) have mixed types.Specify dtype option on import or set low_memory=False.\n",
      "  has_raised = await self.run_ast_nodes(code_ast.body, cell_name,\n"
     ]
    },
    {
     "data": {
      "text/html": [
       "<div>\n",
       "<style scoped>\n",
       "    .dataframe tbody tr th:only-of-type {\n",
       "        vertical-align: middle;\n",
       "    }\n",
       "\n",
       "    .dataframe tbody tr th {\n",
       "        vertical-align: top;\n",
       "    }\n",
       "\n",
       "    .dataframe thead th {\n",
       "        text-align: right;\n",
       "    }\n",
       "</style>\n",
       "<table border=\"1\" class=\"dataframe\">\n",
       "  <thead>\n",
       "    <tr style=\"text-align: right;\">\n",
       "      <th></th>\n",
       "      <th>adm0_id</th>\n",
       "      <th>adm0_name</th>\n",
       "      <th>adm1_id</th>\n",
       "      <th>adm1_name</th>\n",
       "      <th>mkt_id</th>\n",
       "      <th>mkt_name</th>\n",
       "      <th>cm_id</th>\n",
       "      <th>cm_name</th>\n",
       "      <th>cur_id</th>\n",
       "      <th>cur_name</th>\n",
       "      <th>pt_id</th>\n",
       "      <th>pt_name</th>\n",
       "      <th>um_id</th>\n",
       "      <th>um_name</th>\n",
       "      <th>mp_month</th>\n",
       "      <th>mp_year</th>\n",
       "      <th>mp_price</th>\n",
       "      <th>mp_commoditysource</th>\n",
       "    </tr>\n",
       "  </thead>\n",
       "  <tbody>\n",
       "    <tr>\n",
       "      <th>0</th>\n",
       "      <td>1</td>\n",
       "      <td>Afghanistan</td>\n",
       "      <td>272</td>\n",
       "      <td>Badakhshan</td>\n",
       "      <td>266</td>\n",
       "      <td>Fayzabad</td>\n",
       "      <td>55</td>\n",
       "      <td>Bread - Retail</td>\n",
       "      <td>0</td>\n",
       "      <td>AFN</td>\n",
       "      <td>15</td>\n",
       "      <td>Retail</td>\n",
       "      <td>5</td>\n",
       "      <td>KG</td>\n",
       "      <td>1</td>\n",
       "      <td>2014</td>\n",
       "      <td>50.0</td>\n",
       "      <td>NaN</td>\n",
       "    </tr>\n",
       "    <tr>\n",
       "      <th>1</th>\n",
       "      <td>1</td>\n",
       "      <td>Afghanistan</td>\n",
       "      <td>272</td>\n",
       "      <td>Badakhshan</td>\n",
       "      <td>266</td>\n",
       "      <td>Fayzabad</td>\n",
       "      <td>55</td>\n",
       "      <td>Bread - Retail</td>\n",
       "      <td>0</td>\n",
       "      <td>AFN</td>\n",
       "      <td>15</td>\n",
       "      <td>Retail</td>\n",
       "      <td>5</td>\n",
       "      <td>KG</td>\n",
       "      <td>2</td>\n",
       "      <td>2014</td>\n",
       "      <td>50.0</td>\n",
       "      <td>NaN</td>\n",
       "    </tr>\n",
       "    <tr>\n",
       "      <th>2</th>\n",
       "      <td>1</td>\n",
       "      <td>Afghanistan</td>\n",
       "      <td>272</td>\n",
       "      <td>Badakhshan</td>\n",
       "      <td>266</td>\n",
       "      <td>Fayzabad</td>\n",
       "      <td>55</td>\n",
       "      <td>Bread - Retail</td>\n",
       "      <td>0</td>\n",
       "      <td>AFN</td>\n",
       "      <td>15</td>\n",
       "      <td>Retail</td>\n",
       "      <td>5</td>\n",
       "      <td>KG</td>\n",
       "      <td>3</td>\n",
       "      <td>2014</td>\n",
       "      <td>50.0</td>\n",
       "      <td>NaN</td>\n",
       "    </tr>\n",
       "    <tr>\n",
       "      <th>3</th>\n",
       "      <td>1</td>\n",
       "      <td>Afghanistan</td>\n",
       "      <td>272</td>\n",
       "      <td>Badakhshan</td>\n",
       "      <td>266</td>\n",
       "      <td>Fayzabad</td>\n",
       "      <td>55</td>\n",
       "      <td>Bread - Retail</td>\n",
       "      <td>0</td>\n",
       "      <td>AFN</td>\n",
       "      <td>15</td>\n",
       "      <td>Retail</td>\n",
       "      <td>5</td>\n",
       "      <td>KG</td>\n",
       "      <td>4</td>\n",
       "      <td>2014</td>\n",
       "      <td>50.0</td>\n",
       "      <td>NaN</td>\n",
       "    </tr>\n",
       "    <tr>\n",
       "      <th>4</th>\n",
       "      <td>1</td>\n",
       "      <td>Afghanistan</td>\n",
       "      <td>272</td>\n",
       "      <td>Badakhshan</td>\n",
       "      <td>266</td>\n",
       "      <td>Fayzabad</td>\n",
       "      <td>55</td>\n",
       "      <td>Bread - Retail</td>\n",
       "      <td>0</td>\n",
       "      <td>AFN</td>\n",
       "      <td>15</td>\n",
       "      <td>Retail</td>\n",
       "      <td>5</td>\n",
       "      <td>KG</td>\n",
       "      <td>5</td>\n",
       "      <td>2014</td>\n",
       "      <td>50.0</td>\n",
       "      <td>NaN</td>\n",
       "    </tr>\n",
       "  </tbody>\n",
       "</table>\n",
       "</div>"
      ],
      "text/plain": [
       "   adm0_id    adm0_name  adm1_id   adm1_name  mkt_id  mkt_name  cm_id  \\\n",
       "0        1  Afghanistan      272  Badakhshan     266  Fayzabad     55   \n",
       "1        1  Afghanistan      272  Badakhshan     266  Fayzabad     55   \n",
       "2        1  Afghanistan      272  Badakhshan     266  Fayzabad     55   \n",
       "3        1  Afghanistan      272  Badakhshan     266  Fayzabad     55   \n",
       "4        1  Afghanistan      272  Badakhshan     266  Fayzabad     55   \n",
       "\n",
       "          cm_name  cur_id cur_name  pt_id pt_name  um_id um_name  mp_month  \\\n",
       "0  Bread - Retail       0      AFN     15  Retail      5      KG         1   \n",
       "1  Bread - Retail       0      AFN     15  Retail      5      KG         2   \n",
       "2  Bread - Retail       0      AFN     15  Retail      5      KG         3   \n",
       "3  Bread - Retail       0      AFN     15  Retail      5      KG         4   \n",
       "4  Bread - Retail       0      AFN     15  Retail      5      KG         5   \n",
       "\n",
       "   mp_year  mp_price  mp_commoditysource  \n",
       "0     2014      50.0                 NaN  \n",
       "1     2014      50.0                 NaN  \n",
       "2     2014      50.0                 NaN  \n",
       "3     2014      50.0                 NaN  \n",
       "4     2014      50.0                 NaN  "
      ]
     },
     "execution_count": 4,
     "metadata": {},
     "output_type": "execute_result"
    }
   ],
   "source": [
    "#importing necessary dependencies\n",
    "import pandas as pd\n",
    "\n",
    "df=pd.read_csv(\"/Users/narenkhatwani/Documents/GitHub/arkouda/Notebooks/Resources/wfpvam_foodprices_utf8.csv\")\n",
    "\n",
    "#displaying the top 5 rows for testing\n",
    "df.head(5)"
   ]
  },
  {
   "cell_type": "markdown",
   "metadata": {},
   "source": [
    "## Column Name Descriptions\n",
    "1. adm0_id: country id\n",
    "2. adm0_name: country name\n",
    "3. adm1_id: locality id\n",
    "4. adm1_name: locality name\n",
    "5. mkt_id: market id\n",
    "6. mkt_name: market name\n",
    "7. cm_id: commodity purchase id\n",
    "8. cm_name: commodity purchased\n",
    "9. cur_id: currency id\n",
    "10. cur_name: name of currency\n",
    "11. pt_id: market type id\n",
    "12. pt_name: market type (Retail/Wholesale/Producer/Farm Gate)\n",
    "13. um_id: measurement id\n",
    "14. um_name: unit of goods measurement\n",
    "15. mp_month: month recorded\n",
    "16. mpyear: year recorded *mpprice: price paid\n",
    "17. mp_commoditysource: Source supplying price information"
   ]
  },
  {
   "cell_type": "markdown",
   "metadata": {},
   "source": [
    "#### In order to read the csv stating a specific encoding we can use the encoding parameter"
   ]
  },
  {
   "cell_type": "code",
   "execution_count": 5,
   "metadata": {},
   "outputs": [],
   "source": [
    "#df=pd.read_csv(\"/Users/narenkhatwani/Documents/GitHub/arkouda/Notebooks/Resources/wfp_market_food_prices_utf8.csv,encoding='ascii')"
   ]
  },
  {
   "cell_type": "markdown",
   "metadata": {},
   "source": [
    "# 2. Cleaning the Data "
   ]
  },
  {
   "cell_type": "markdown",
   "metadata": {},
   "source": [
    "### 2.1 to_hdf method of Python (not recommended)"
   ]
  },
  {
   "cell_type": "markdown",
   "metadata": {},
   "source": [
    "#### If using to_hdf method of Python, dictionary having the mapping IDs for the market name and location"
   ]
  },
  {
   "cell_type": "code",
   "execution_count": 6,
   "metadata": {},
   "outputs": [
    {
     "name": "stdout",
     "output_type": "stream",
     "text": [
      "{272: 'Badakhshan', 273: 'Badghis', 274: 'Baghlan', 275: 'Balkh', 276: 'Bamyan', 277: 'Farah', 278: 'Faryab', 279: 'Ghazni', 280: 'Ghor', 281: 'Hilmand', 282: 'Hirat', 283: 'Jawzjan', 284: 'Kabul', 285: 'Kandahar', 286: 'Kapisa', 287: 'Khost', 288: 'Kunar', 289: 'Kunduz', 290: 'Laghman', 291: 'Logar', 292: 'Nangarhar', 293: 'Nimroz', 294: 'Nuristan', 295: 'Paktika', 296: 'Paktya', 297: 'Parwan', 298: 'Samangan', 299: 'Sar-e-Pul', 300: 'Takhar', 301: 'Uruzgan', 302: 'Wardak', 303: 'Zabul', 99878: 'Daykundi', 99879: 'Panjsher', 344: 'Alger', 383: 'Tindouf', 408: 'Luanda', 409: 'Lunda Norte', 430: 'Buenos Aires D.f.', 449: 'Santa Fe', 0: nan, 453: nan, 454: nan, 455: nan, 456: nan, 462: nan, 457: nan, 458: nan, 460: nan, 461: nan, 463: nan, 464: nan, 575: 'Barisal', 576: 'Chittagong', 577: 'Dhaka', 578: 'Khulna', 579: 'Rajshahi', 580: 'Sylhet', 61363: 'Rangpur', 1484: nan, 1485: nan, 1486: nan, 1487: nan, 1488: nan, 1489: nan, 1490: nan, 1491: nan, 1492: nan, 1493: nan, 1494: nan, 1495: nan, 1497: nan, 1498: nan, 1500: nan, 1501: nan, 1502: nan, 1503: nan, 1504: nan, 1505: nan, 1506: nan, 1507: nan, 1508: nan, 1509: nan, 1510: nan, 1511: nan, 40424: nan, 40429: nan, 70074: nan, 70075: nan, 70078: nan, 70080: nan, 70082: nan, 597: 'Minsk City', 609: 'Alibori', 610: 'Atakora', 611: 'Atlantique', 612: 'Borgou', 613: 'Collines', 614: 'Couffo', 615: 'Donga', 616: 'Littoral', 617: 'Mono', 618: 'Oueme', 619: 'Plateau', 620: 'Zou', 635: nan, 648: 'Pando', 40443: 'Beni', 40444: 'Chuquisaca', 40445: 'Cochabamba', 40446: 'La Paz', 40447: 'Oruro', 40448: 'Potosi', 40449: 'Santa Cruz', 40450: 'Tarija', 40276: 'Boucle Du Mouhoun', 40277: 'Cascades', 40278: 'Centre', 40279: 'Centre-est', 40280: 'Centre-nord', 40281: 'Centre-ouest', 40282: 'Centre-sud', 40283: 'Est', 40284: 'Hauts-bassins', 40285: 'Nord', 40286: 'Plateau Central', 40287: 'Sahel', 40288: 'Sud-ouest', 40542: 'Bubanza', 40543: 'Bujumbura Mairie', 40544: 'Bujumbura Rural', 40545: 'Bururi', 40546: 'Cankuzo', 40547: 'Cibitoke', 40548: 'Gitega', 40549: 'Karuzi', 40550: 'Kayanza', 40551: 'Kirundo', 40552: 'Makamba', 40553: 'Muramvya', 40554: 'Muyinga', 40555: 'Mwaro', 40556: 'Ngozi', 40557: 'Rutana', 40558: 'Ruyigi', 791: 'Banteay Meanchey', 792: 'Battambang', 793: 'Kampong Cham', 794: 'Kampong Chhnang', 795: 'Kampong Speu', 796: 'Kampong Thom', 797: 'Kampot', 798: 'Kandal', 799: 'Koh Kong', 800: 'Kep', 801: 'Kratie', 802: 'Preah Sihanouk', 803: 'Mondul Kiri', 804: 'Otdar Meanchey', 805: 'Pailin', 806: 'Phnom Penh', 807: 'Preah Vihear', 808: 'Prey Veng', 809: 'Pursat', 810: 'Ratanak Kiri', 811: 'Siem Reap', 812: 'Stung Treng', 813: 'Svay Rieng', 814: 'Takeo', 815: 'Adamaoua', 816: 'Centre', 817: 'Est', 818: 'Extreme - Nord', 819: 'Littoral', 820: 'Nord', 821: 'Nord - Ouest', 822: 'Ouest', 824: 'Sud - Ouest', 848: 'Santiago', 849: 'Santo Antao', 851: 'Sao Vicente', 853: 'Bamingui-Bangoran', 855: 'Haut-Mbomou', 856: 'Haute-Kotto', 857: 'K√©mo', 858: 'Lobaye', 859: 'Mamb√©r√©-Kad√©√Ø', 860: 'Mbomou', 861: 'Nana-Gribizi', 862: 'Nana-Mamb√©r√©', 863: \"Ombella M'Poko\", 864: 'Ouaka', 865: 'Ouham', 866: 'Ouham Pend√©', 867: 'Sangha-Mba√©r√©', 868: 'Vakaga', 67154: 'Bangui', 870: nan, 873: nan, 875: nan, 876: nan, 881: nan, 12904: nan, 12905: nan, 12907: nan, 12908: nan, 12910: nan, 12911: nan, 12912: nan, 12914: nan, 12915: nan, 12918: nan, 12920: nan, 12921: nan, 12922: nan, 12923: nan, 12924: nan, 12925: nan, 12927: nan, 12928: nan, 12930: nan, 12931: nan, 907: 'Hebei Sheng', 908: 'Heilongjiang Sheng', 909: 'Henan Sheng', 911: 'Hubei Sheng', 914: 'Jiangxi Sheng', 915: 'Jilin Sheng', 921: 'Shandong Sheng', 923: 'Shanxi Sheng', 930: 'Zhejiang Sheng', 935: 'Antioquia', 937: 'Atlantico', 938: 'Bolivar', 939: 'Boyaca', 941: 'Caldas', 942: 'Caqueta', 944: 'Cauca', 945: 'Cesar', 947: 'Cordoba', 948: 'Cundinamarca', 952: 'Huila', 953: 'Magdalena', 954: 'Meta', 955: 'Narino', 956: 'Norte De Santander', 958: 'Quindio', 959: 'Risaralda', 961: 'Santander', 962: 'Sucre', 963: 'Tolima', 964: 'Valle Del Cauca', 970: 'Bouenza', 971: 'Cuvette', 974: 'Lekoumou', 975: 'Likouala', 978: 'Pool', 900002: 'Point-Noire', 900003: 'Brazzaville', 1041: 'Denguele', 1048: 'Savanes', 1050: 'Comoe', 1051: 'Vallee Du Bandama', 16838: 'Yamoussoukro', 16843: nan, 16844: nan, 40692: 'Montagnes', 1066: 'Bandundu', 1067: 'Bas-Congo', 1068: 'Equateur', 1069: 'Kasai Occidental', 1070: 'Kasai Oriental', 1071: 'Katanga', 1072: 'Kinshasa', 1073: 'Maniema', 1074: 'Nord-Kivu', 1075: 'Orientale', 1076: 'Sud-Kivu', 1093: 'Ali Sabieh', 1094: 'Dikhil', 1095: 'Djibouti', 1096: 'Obock', 1097: 'Tadjourah', 36858: nan, 1135: 'Azuay', 1139: 'Chimborazo', 1144: 'Guayas', 1148: 'Manabi', 1153: 'Pichincha', 1155: 'Tungurahua', 1184: nan, 1185: nan, 1186: nan, 1187: nan, 1189: nan, 1190: nan, 1191: nan, 1192: nan, 1193: nan, 1194: nan, 1195: nan, 1196: nan, 1197: nan, 1210: 'Maekel', 1211: 'Semenawi Keih Bahri', 1227: 'Addis Ababa', 1228: 'Afar', 1229: 'Amhara', 1230: 'Beneshangul Gumu', 1231: 'Dire Dawa', 1232: 'Gambela', 1233: 'Hareri', 1236: 'SNNPR', 1237: 'Tigray', 47678: 'Oromia', 47679: 'Somali', 1275: 'Estuaire', 1285: 'Central River', 1287: 'Lower River', 1288: 'North Bank', 1289: 'Upper River', 1290: 'West Coast', 112869: 'Kanifing Municipal Council', 1307: 'Tbilisi', 1324: 'Ashanti', 1325: 'Brong Ahafo', 1326: 'Central', 1327: 'Eastern', 1328: 'Greater Accra', 1329: 'Northern', 1330: 'Upper East', 1331: 'Upper West', 1332: 'Volta', 1333: 'Western', 64821: nan, 40700: 'Boke', 40701: 'Conakry', 40702: 'Faranah', 40703: 'Kankan', 40704: 'Kindia', 40705: 'Labe', 40706: 'Mamou', 40707: 'Nzerekore', 1385: 'Bafata', 1386: 'Biombo', 1387: 'Bolama', 1388: 'Cacheu', 1389: 'Gabu', 1390: 'Oio', 1391: 'Quinara', 1392: 'Sector Autonomo De Bissau', 1393: 'Tombali', 1409: 'Artibonite', 1410: 'Centre', 1411: 'Grande Anse', 1412: 'Nord', 1413: 'Nord Est', 1414: 'Nord Ouest', 1415: 'Ouest', 1416: 'Sud', 1417: 'Sud Est', 1425: nan, 1426: nan, 1512: nan, 1513: nan, 1514: nan, 1515: nan, 1516: nan, 1518: nan, 1519: nan, 1520: nan, 1521: nan, 1522: nan, 1523: nan, 1524: nan, 1525: nan, 1526: nan, 1527: nan, 1528: nan, 1529: nan, 1530: nan, 1531: nan, 1532: nan, 1533: nan, 1534: nan, 1535: nan, 1536: nan, 1537: nan, 73609: nan, 73610: nan, 73611: nan, 73612: nan, 73614: nan, 73617: nan, 73619: nan, 1560: 'Tehran', 1564: nan, 1565: nan, 1566: nan, 1567: nan, 1568: nan, 1569: nan, 1570: nan, 1571: nan, 1572: nan, 1573: nan, 1574: nan, 1575: nan, 1576: nan, 1577: nan, 1578: nan, 1579: nan, 1580: nan, 1581: nan, 1682: 'Oosaka', 1690: 'Tookyoo', 1701: nan, 1702: nan, 1703: nan, 1704: nan, 1705: nan, 1706: nan, 1707: nan, 1708: nan, 1709: nan, 1710: nan, 1711: nan, 1712: nan, 1714: 'Akmolinskaya', 1720: 'Kustanayskaya', 1724: 'Mangistauskaya', 37157: 'Almaty City area', 51326: 'Coast', 51327: 'Eastern', 51328: 'Nairobi', 51329: 'North Eastern', 51330: 'Nyanza', 51331: 'Rift Valley', 1746: nan, 1747: nan, 1748: nan, 1749: nan, 1750: nan, 1751: nan, 1752: nan, 1753: 'Attapu', 1754: 'Bokeo', 1755: 'Bolikhamxai', 1756: 'Champasak', 1757: 'Houaphan', 1758: 'Khammouan', 1759: 'Louangphabang', 1760: 'Louang-Namtha', 1761: 'Oudomxai', 1762: 'Phongsali', 1763: 'Salavan', 1764: 'Savannakhet', 1765: 'Xaignabouli', 1766: 'Xekong', 1767: 'Vientiane', 1768: 'Vientiane capital', 1770: 'Xiangkhouang', 1797: nan, 1798: nan, 1799: nan, 1800: nan, 1801: nan, 1802: nan, 1803: 'Berea', 1804: 'Butha Buthe', 1805: 'Leribe', 1806: 'Mafeteng', 1807: 'Maseru', 1808: \"Mohale's Hoek\", 1809: 'Mokhotlong', 1810: \"Qacha's Nek\", 1811: 'Quthing', 1812: 'Thaba Tseka', 1814: 'Bomi', 1815: 'Bong', 1816: 'Gbarpolu', 1817: 'Grand Bassa', 1818: 'Grand Cape Mount', 1819: 'Grand Gedeh', 1820: 'Grand Kru', 1821: 'Lofa', 1822: 'Margibi', 1823: 'Maryland', 1824: 'Montserrado', 1825: 'Nimba', 1826: 'Rivercess', 1827: 'River Gee', 1828: 'Sinoe', 1829: nan, 1830: nan, 1832: nan, 1833: nan, 1834: nan, 1835: nan, 1836: nan, 1837: nan, 1838: nan, 1839: nan, 1840: nan, 1841: nan, 1842: nan, 1843: nan, 1844: nan, 1845: nan, 1846: nan, 1847: nan, 1848: nan, 1849: nan, 1850: nan, 1851: nan, 1852: nan, 1881: 'Atsinanana', 1885: 'Toliara', 899979: 'Vatovavy Fitovinany', 899980: 'Vakinankaratra', 899981: 'Sofia', 899983: 'Menabe', 899984: 'Melaky', 899986: 'Ihorombe', 899987: 'Haute Matsiatra', 899988: 'Diana', 899990: 'Boeny', 899991: 'Betsiboka', 899992: 'Atsimo Atsinanana', 899993: 'Atsimo Andrefana', 899994: 'Anosy', 899995: 'Androy', 899996: 'Analanjirofo', 899997: 'Analamanga', 899998: 'Amoron I Mania', 899999: 'Alaotra Mangoro', 1888: 'Central Region', 1889: 'Northern Region', 1890: 'Southern Region'}\n"
     ]
    }
   ],
   "source": [
    "market_names_dictionary=pd.Series(df.adm1_name.values,index=df.adm1_id).to_dict()\n",
    "print(market_names_dictionary)"
   ]
  },
  {
   "cell_type": "code",
   "execution_count": 7,
   "metadata": {},
   "outputs": [
    {
     "name": "stdout",
     "output_type": "stream",
     "text": [
      "{1: 'Afghanistan', 4: 'Algeria', 8: 'Angola', 12: 'Argentina', 13: 'Armenia', 19: 'Azerbaijan', 23: 'Bangladesh', 115: 'Bassas da India', 26: 'Belarus', 29: 'Benin', 31: 'Bhutan', 33: 'Bolivia', 42: 'Burkina Faso', 43: 'Burundi', 44: 'Cambodia', 45: 'Cameroon', 47: 'Cape Verde', 49: 'Central African Republic', 50: 'Chad', 52: 'China', 57: 'Colombia', 59: 'Congo', 61: 'Costa Rica', 66: \"Cote d'Ivoire\", 68: 'Democratic Republic of the Congo', 70: 'Djibouti', 72: 'Dominican Republic', 73: 'Ecuador', 40765: 'Egypt', 75: 'El Salvador', 77: 'Eritrea', 79: 'Ethiopia', 89: 'Gabon', 90: 'Gambia', 92: 'Georgia', 94: 'Ghana', 103: 'Guatemala', 106: 'Guinea', 105: 'Guinea-Bissau', 108: 'Haiti', 111: 'Honduras', 116: 'Indonesia', 117: 'Iran  (Islamic Republic of)', 118: 'Iraq', 126: 'Japan', 130: 'Jordan', 132: 'Kazakhstan', 133: 'Kenya', 138: 'Kyrgyzstan', 139: \"Lao People's Democratic Republic\", 141: 'Lebanon', 142: 'Lesotho', 144: 'Liberia', 145: 'Libya', 150: 'Madagascar', 152: 'Malawi'}\n"
     ]
    }
   ],
   "source": [
    "market_names_dictionary=pd.Series(df.adm0_name.values,index=df.adm0_id).to_dict()\n",
    "print(market_names_dictionary)"
   ]
  },
  {
   "cell_type": "code",
   "execution_count": 8,
   "metadata": {},
   "outputs": [
    {
     "name": "stdout",
     "output_type": "stream",
     "text": [
      "{266: 'Fayzabad', 267: 'Mazar', 3690: 'Badakhshan', 3220: 'Badghis', 3221: 'Baghlan', 3691: 'Balkh', 268: 'Bamyan', 3222: 'Farah', 269: 'Maymana', 3693: 'Faryab', 3223: 'Ghazni', 276: 'Ghor', 3224: 'Hilmand', 270: 'Hirat', 3225: 'Jawzjan', 271: 'Kabul', 272: 'Kandahar', 3226: 'Kapisa', 3227: 'Khost', 3228: 'Kunar', 3229: 'Kunduz', 3230: 'Laghman', 3231: 'Logar', 273: 'Jalalabad', 3694: 'Nangarhar', 3233: 'Nimroz', 3234: 'Nuristan', 3235: 'Paktika', 274: 'Gardez', 3695: 'Paktya', 3237: 'Parwan', 3238: 'Samangan', 3239: 'Sar-e-Pul', 3240: 'Takhar', 3241: 'Uruzgan', 3232: 'Maidan Wardak', 3242: 'Zabul', 275: 'Nili', 3692: 'Daykundi', 3236: 'Panjsher', 1794: 'Algiers', 1795: 'Tindouf', 1796: 'Samara', 1797: 'Dakhla', 1901: 'Boujdour', 1902: 'Auserd', 1903: 'Layoun', 2593: 'Luanda', 2305: 'Kaxinde', 2571: 'Buenos Aires', 2581: 'Greater Buenos Aires', 2600: 'Rosario', 1515: 'National Average', 2756: 'Ashtarak', 1886: 'Artashat', 2760: 'Vagharshapat', 642: 'Gavar', 2758: 'Hrazdan', 643: 'Vanadzor', 1787: 'Armavir', 2757: 'Gyumri', 1595: 'Kapan', 644: 'Berd', 2759: 'Ijevan', 1594: 'Yeghegnadzor', 641: 'Yerevan', 225: 'National Average', 112: 'Barisal Division', 4029: 'Barguna Sadar', 4030: 'Bhola Sadar', 4031: 'Jhalokati Sadar', 4032: 'Patuakhali Sadar', 4033: 'Pirojpur Sadar', 4082: 'Barisal Sadar', 114: 'Chittagong Division', 4049: 'Bandarban Sadar', 4050: 'Brahmonbaria Sadar', 4051: 'Chandpur Sadar', 4052: 'Chittagong Sadar', 4053: 'Comilla Sadar', 4054: \"Cox's Bazar Sadar\", 4055: 'Feni Sadar', 4056: 'Khagrachari Sadar', 4057: 'Laxmipur Sadar', 4058: 'Noakhali Sadar', 4059: 'Rangamati Sadar', 4080: 'Patiya Sadar', 116: 'Dhaka Division', 2574: 'Dhaka', 3032: 'Mymensing Sadar', 4034: 'Faridpur Sadar', 4035: 'Gazipur Sadar', 4036: 'Gopalgonj Sadar', 4037: 'Kishoregonj Sadar', 4038: 'Madaripur Sadar', 4039: 'Manikganj Sadar', 4040: 'Munshiganj Sadar', 4041: 'Narayanganj Sadar', 4042: 'Narsingdi Sadar', 4043: 'Rajbari Sadar', 4044: 'Shariatpur Sadar', 4045: 'Tangail sadar Market', 4046: 'Jamalpur Sadar', 4047: 'Netrakona Sadar', 4048: 'Sherpur Sadar', 4083: 'Dhaka Sadar', 118: 'Khulna Division', 4020: 'Bagerhat Sadar', 4021: 'Chuadanga Sadar', 4022: 'Jessore Sadar', 4023: 'Jhenaidah Sadar', 4024: 'Kushtia Sadar', 4025: 'Magura Sadar', 4026: 'Meherpur Sadar', 4027: 'Narail Sadar', 4028: 'Satkhira Sadar', 4081: 'Khulna Sadar', 120: 'Rajshahi Division', 4068: 'Bogra Sadar', 4069: 'Jaipurhat Sadar', 4070: 'Naogaon Sadar', 4071: 'Natore Sadar', 4072: 'Nawabgonj Sadar', 4073: 'Pabna Sadar', 4074: 'Rajshahi Sadar', 4075: 'Sirajgonj Sadar', 122: 'Sylhet Division', 4076: 'Habigonj Sadar', 4077: 'Maulavibazar Sadar', 4078: 'Sunamgonj Sadar', 4079: 'Sylhet Sadar', 3033: 'Rangpur Sadar', 4060: 'Dinajpur Sadar', 4061: 'Gaibandha Sadar', 4062: 'Kurigram Sadar', 4063: 'Lalmonirhat Sadar', 4064: 'Nilphamari Sadar', 4065: 'Panchagarh Sadar', 4066: 'Rangpur Municipality Market', 4067: 'Thakurgaon Sadar', 1887: 'National Average', 1392: 'Port Blair', 4676: 'Mayabunder', 941: 'Hyderabad', 971: 'Vijaywada', 4648: 'Adilabad', 4666: 'Jadcherla', 4671: 'Karimnagar', 4673: 'Kurnool', 4692: 'Suryapet', 4695: 'Tirupathi', 4699: 'Visakhapatnam', 4700: 'Warangal', 943: 'Itanagar', 939: 'Guwahati', 927: 'Bhagalpur', 957: 'Patna', 4657: 'Darbhanga', 4678: 'Muzzafarpur', 4682: 'Purnia', 4749: 'Bihar_Gaya', 5901: 'Saran', 5902: 'Munger', 5903: 'Saharsa', 5904: 'Madhubani', 5905: 'Rohtas (sasaram)', 5906: 'Motihari', 5907: 'Samastipur', 5908: 'Katihar', 5909: 'Araria', 5910: 'Nawada', 5911: 'Khagaria', 934: 'Delhi', 1393: 'Panaji', 923: 'Ahmedabad', 959: 'Rajkot', 4653: 'Bhuj', 4691: 'Surat', 940: 'Hisar', 948: 'Karnal', 1779: 'Gurgaon', 1782: 'Panchkula', 954: 'Mandi', 963: 'Shimla', 4658: 'Dharamshala', 4690: 'Solan', 5068: 'Una', 5898: 'Bilaspur-hp', 926: 'Bengaluru', 935: 'Dharwad', 4675: 'Mangalore', 4679: 'Mysore', 5678: 'Bengaluru (east range)', 5679: 'Belagavi', 5680: 'Kalaburagi', 5681: 'Tumakuru', 5682: 'Bellary', 5683: 'Dhavanagere', 5684: 'Shivamogga', 5685: 'Vijayapur', 938: 'Ernakulam', 966: 'T.Puram', 968: 'Tiruvanantapuram', 1781: 'Kozhikode', 4681: 'Palakkad', 4693: 'Thrissur', 4701: 'Wayanad', 928: 'Bhopal', 942: 'Indore', 1780: 'Gwalior', 1785: 'Jabalpur', 4687: 'Rewa', 4689: 'Sagar', 5069: 'Jhabua', 5070: 'Hoshangabad', 5071: 'Shahdol', 5072: 'Ujjain', 6010: 'Morena', 955: 'Mumbai', 956: 'Nagpur', 958: 'Raipur', 4680: 'Nashik', 4750: 'Maharashtra_Pune', 4665: 'Imphal', 962: 'Shillong', 4670: 'Jowai', 4696: 'Tura', 924: 'Aizawl', 936: 'Dimapur', 949: 'Kohima', 929: 'Bhubaneshwar', 932: 'Cuttack', 961: 'Sambalpur', 1783: 'Rourkela', 4651: 'Balasore', 4652: 'Berhampur', 4668: 'Jeypore', 5073: 'Baripada', 5074: 'Balangir', 925: 'Amritsar', 953: 'Ludhiana', 973: 'Bathinda', 944: 'Jaipur', 946: 'Jodhpur', 951: 'Kota', 4697: 'Udaipur', 5899: 'Bharatpur', 5900: 'Bikaner', 6011: 'Ajmer', 4661: 'Gangtok', 931: 'Chennai', 937: 'Dindigul', 967: 'Thiruchirapalli', 4655: 'Coimbatore', 4656: 'Cuddalore', 4659: 'Dharmapuri', 4685: 'Ramanathapuram', 4694: 'Tirunelveli', 4698: 'Vellore', 921: 'Agartala', 922: 'Agra', 947: 'Kanpur', 952: 'Lucknow', 970: 'Varanasi', 4649: 'Allahabad', 4662: 'Gorakhpur', 4669: 'Jhansi', 4677: 'Meerut', 6007: 'Bareilly', 6008: 'Moradabad', 6009: 'Aligarh', 6080: 'Ayodhya', 6082: 'Saharanpur', 6083: 'Mirzapur (vindhyanchal)', 950: 'Kolkata', 964: 'Siliguri', 4672: 'Kharagpur', 4674: 'Malda', 4683: 'Purulia', 4684: 'Raiganj', 4686: 'Rampurhat', 965: 'Srinagar', 945: 'Jammu', 930: 'Chandigarh', 4650: 'Ambikapur', 4654: 'Bilaspur', 4660: 'Durg', 4667: 'Jagdalpur', 960: 'Ranchi', 5673: 'Gumla', 5674: 'Sahibganj', 5675: 'Bokaro', 5676: 'Lohardaga', 5677: 'Simdega', 1394: 'Puducherry', 933: 'Dehradun', 4663: 'Haldwani', 4664: 'Haridwar', 4688: 'Rudrapur', 2618: 'Minsk', 1044: 'Malanville (CBM)', 1749: 'Banikoara', 2771: 'Karimama', 1755: 'K√©rou', 1756: 'Tangui√©ta', 1757: 'Natitingou', 2555: 'Cobly', 2774: 'P√©hunco', 2561: 'Sehoue', 2773: 'Ou√®gbo', 2775: 'So-Ava', 2776: 'S√®dj√®-D√©nou', 2777: 'S√©kou', 2781: 'Zinvi√©', 2783: 'Z√®', 1750: 'Sinend√©', 1751: 'Kalal√©', 1752: 'Nikki', 1753: \"N'Dali\", 1754: 'Parakou', 2764: 'Bemb√®r√®k√®', 2779: 'Tchaourou', 1759: 'Savalou', 1760: 'Glazou√©', 2560: 'Ouesse', 2767: 'Dassa-Zoum√®', 1766: 'Azov√®', 2769: 'Dogbo', 2772: 'Klou√©kanm√®', 1758: 'Djougou', 2558: 'Kassoua-Allah', 2763: 'Bassila', 124: 'Dantokpa', 1765: 'Com√®', 2556: 'Com√©', 1764: 'Ouando', 2554: 'Azowliss√®', 2761: 'Affam√®', 2762: 'Ahidahom√® (Porto-Novo)', 2766: 'Dangbo', 2770: 'Hozin', 1762: 'K√©tou', 1763: 'Pob√®', 2557: 'Ikpenl√®', 2778: 'Tatonnoukon', 2780: 'Yoko', 1761: 'Bohicon', 2559: 'Kpedekpo', 2562: 'Abomey', 2765: 'Cov√®', 2768: 'Dasso', 2782: 'Zogbodomey', 1036: 'National Average', 2609: 'Thimphu', 315: 'Cobija', 314: 'Trinidad', 307: 'Sucre', 309: 'Cochabamba City', 308: 'La Paz City', 310: 'Oruro City', 311: 'Potosi', 313: 'Santa Cruz City', 312: 'Tarija City', 141: 'Tougan', 1892: 'Dedougou', 2595: 'Nouna', 3364: 'Boromo', 3368: 'Djibasso', 3370: 'Fara', 3374: 'Gassan', 3395: 'Solenzo', 3398: 'Toma', 129: 'Banfora', 3369: 'Douna', 139: 'Ouagadougo (Sankaryare)', 3376: 'Gounghin', 140: 'Tenkodogo', 1802: 'Pouytenga', 3382: 'Koupela', 3389: 'Ouargaye', 3401: 'Zabr√©', 137: 'Kongoussi', 1803: 'Kaya', 3365: 'Boulsa', 3400: 'Yalgo', 138: 'Koudougou', 1804: 'Leo', 3391: 'R√©o', 3392: 'Sapouy', 3396: 'Tita', 1805: 'Guelwongo', 3380: 'Kombissiri', 3383: 'Manga', 3390: 'Po', 134: \"Fada N'Gourma\", 1042: 'Kantchari (CBM)', 1043: 'Namouno (CBM)', 3363: 'Bogand√©', 3367: 'Diapaga', 3375: 'Gay√©ri', 3377: 'Haaba', 3381: 'Kompienga', 1806: 'Nieneta', 2569: 'Bobo Dioulasso', 3371: 'Faramana', 3372: 'Founza', 3379: 'Hound√©', 3387: \"N'Dorola\", 3388: 'Orodara', 136: 'Gourcy', 1893: 'Ouahigouya', 3397: 'Titao', 3399: 'Yako', 130: 'Bousse', 3385: 'Mogt√©do', 3402: 'Ziniar√©', 3403: 'Zorgho', 132: 'Djibo', 133: 'Dori', 135: 'Gorom Gorom', 3361: 'Arbinda', 3384: 'Markoye', 3393: 'Sebba', 3394: 'Seytenga', 131: 'Diebougou', 3362: 'Bati√©', 3366: 'Dano', 3373: 'Gaoua', 3378: 'Ham√©l√©', 1827: 'Musenyi', 2443: 'Kivyuka', 2453: 'Muzinda', 201: 'Bujumbura', 2436: 'Kamenge', 2437: 'Kanyosha', 2464: 'Chez Siyoni', 2442: 'Kinama', 2469: 'Gitaza', 2427: 'Bururi', 2429: 'Buyengero', 2459: 'Nyagasasa', 2475: 'Matana', 2479: 'Rumonge', 3047: 'Burambi', 2441: 'Kigamba', 2448: 'Mishiha', 2466: 'Cankuzo', 2481: 'Twinkwavu', 1826: 'Rugombo', 2430: 'Gasenyi', 2445: 'Mabayi', 202: 'Gitega', 2426: 'Bukirasazi', 2432: 'Gihamagara', 2452: 'Mutaho', 2433: 'Gihogazi', 2458: 'Nyabikere', 2465: 'Buhiga', 2422: 'Bandaga', 2435: 'Jene', 2449: 'Muhanga', 2471: 'Kayanza', 203: 'Kirundo', 2428: 'Busoni', 2434: 'Gitobe', 2461: 'Ruhehe', 2477: 'Mukenke', 2439: 'Kayogoro', 2444: 'Mabanda', 2474: 'Makamba', 2478: 'Muyange', 2425: 'Bukeye', 2451: 'Muramvya', 2467: 'Gatabo', 204: 'Muyinga', 2431: 'Gasorwe', 2454: 'Mwakiro', 2470: 'Giteranyi', 2473: 'Kobero', 2455: 'Mwaro', 2457: 'Nyabihanga', 2462: 'Rusaka', 2482: 'Wimpfizi', 206: 'Ngozi', 2446: 'Marangara', 2447: 'Masanganzira', 2476: 'Mihigo', 2438: 'Kayero', 2460: 'Rubaho', 2480: 'Rutana', 3046: 'Giharo', 205: 'Ruyigi', 2423: 'Biyogwa', 2440: 'Kayongozi', 2468: 'Gisuru', 2472: 'Kinyinya', 3045: 'Biyorwa', 640: 'Banteay Meanchey', 1524: 'Serei Saophoan', 1525: 'Thma Puok', 3110: 'Phnom Srok', 639: 'Battambang', 3111: 'Boeung Chhouk', 3112: 'Koas Kralor', 633: 'Kampong Cham', 1526: 'Pha Oav', 1527: 'Boeung Kuk', 2413: 'Tbong Khmum', 3113: 'Prey Totung', 3141: 'Suong', 632: 'Kampong Chhnang', 1528: 'Sala 5', 1529: 'Central Market (KSP)', 1530: 'Bat Doeng', 1672: 'Kampong Speu', 3114: 'Slab Leaeng', 1531: 'Kampong Thom', 1532: 'Kampong Chheuteal', 3115: 'Stoung', 638: 'Kampot', 3116: 'Samaki', 3117: 'Dang Tong', 1533: \"S'ang\", 1534: 'Ta Khmau', 3118: 'Tar khmao', 3119: 'Preak Toch', 2411: 'Koh Kong', 2410: 'Kep', 1673: 'Kratie', 3122: 'Snuol', 1675: 'Preah Sihanouk', 3132: 'Leu', 3133: 'Veal Reanh', 1676: 'Mondol Kiri', 3123: 'Saen Monourom', 1540: 'Anlong Veng', 1541: 'Samroang', 1677: 'Oddar Meanchey', 3139: 'Samrong', 3140: 'Chong Kal', 1778: 'Pailin', 637: 'Phnom Penh', 3124: 'Chbar Ampov', 3125: 'Ou Russey', 1678: 'Preah Vihear', 3126: 'Kampong Pranak', 3127: 'Rovieng', 636: 'Prey Veng', 1535: 'Chheu Kach', 1536: 'Chheu Tom', 1564: 'Central Market (PST)', 1671: 'Pursat', 3128: 'Thom Tmey', 3129: 'Krakor', 2412: 'Rattanak Kiri', 3130: 'Ban Loung', 3131: 'Bar Kaev', 635: 'Siem Reap', 1538: 'Kralanh', 1539: 'Psa Leu', 1674: 'Stung Treng', 3134: 'Thala Barivat', 1680: 'Svay Rieng', 3135: 'Yeal Yon', 3136: 'Chi Phou', 634: 'Takeo', 1679: 'Kandal', 3137: 'Doun Keo', 3138: 'Tom Leap', 2257: 'Batoua Godol√©', 2259: 'Meiganga', 2260: 'Ngaoui', 2261: 'Yamba', 2613: 'Yaound√©-Mfoundi', 5271: 'Yaound√©-Mokolo', 5272: 'Yaound√©-March√© 8e', 2246: 'Bertoua 2', 2247: 'Bertoua 1', 2248: 'Betare Oya', 2249: 'Guiwa Yangamo', 2250: 'Mandjou', 2251: 'Ndokayo', 2252: 'Tongo Gandima', 2253: 'Batouri', 2254: 'Gbiti', 2255: 'Kentzou', 2256: 'K√©tt√©', 2258: 'Garoua Boula√Ø', 1590: 'Kousseri', 1591: 'Logone-Birni', 1592: 'Mada', 2307: 'Maroua', 2308: 'Yagoua', 2309: 'Kaele', 2310: 'Mora', 2311: 'Mokolo', 4332: 'Mara', 4336: 'Maroua-Dougoy', 5529: 'Zamay', 2579: 'Douala-Congo', 5260: 'Douala-Bonaberi', 5261: 'Douala-March√© Central', 5262: 'Douala-Sandaga', 1578: 'Ngong', 1579: 'Pitoa', 1580: 'Adoumri', 1581: 'Pintchoumba', 1582: 'God√©', 1583: 'Poli', 1584: 'Guider', 1585: 'Figuil', 1586: 'Mayo Oulo', 1587: 'Mbaiboum', 1588: 'Rey Bouba', 1589: 'Madingring', 1593: 'Garoua', 2567: 'Bamenda', 5263: 'Fundong', 5268: 'Ndop', 5269: 'Nkambe', 5270: 'Wum', 5275: 'Kumbo', 5528: 'Bamenda-Nkwen', 2566: 'Bafoussam', 4251: 'Buea', 5264: 'Kumba', 5266: 'Limb√©', 5267: 'Mamf√©', 535: 'Santiago', 533: 'Santo Antao', 534: 'Sao Vicente', 2220: 'Nd√©l√©', 2068: 'Zemio', 2079: 'Obo', 1857: 'Bria', 2082: 'Sibut', 2219: 'Dekoa', 2063: 'Mba√Øki', 2217: 'Boganangone', 2218: 'Boda', 2064: 'Gamboula', 2066: 'Berb√©rati', 2078: 'Carnot', 1856: 'Bangassou', 1790: 'Kaga-Bandoro', 1791: 'Bouar', 2073: 'Baoro', 2058: 'Bimbo', 2059: 'Bossemb√©l√©', 2065: 'Yalok√©', 2070: 'Bossempt√©l√©', 2080: 'B√©goua', 2207: 'Damara', 2209: 'Boali', 2803: 'Combattant', 2805: 'Gobongo', 686: 'Bambari', 2383: 'Ippy', 1792: 'Bossangoa', 2062: 'Bouca', 2203: 'Batangafo', 1793: 'Paoua', 2061: 'Bozoum', 2071: 'Bocaranga', 2200: 'Ngaoundaye', 2060: 'Nola', 2382: 'Bayanga', 2198: 'Birao', 685: 'Bangui', 2804: 'P√©t√©vo', 2806: 'PK5', 1965: 'National Average', 2294: 'Biltine', 2300: 'Iriba', 2707: 'Am-Zoer', 2713: 'Guereda', 231: 'Mongo', 2715: 'Mangalme', 2719: 'Bitkine', 2755: 'Melfi', 229: 'Bol', 2292: 'Benoye', 2298: 'Mba√Ønamar', 2714: 'Krim Krim', 1962: 'Am Timan', 2286: 'Aboudeia', 2720: 'Haraze Mangueigne', 2280: 'Oum Hadjer', 5623: 'Oumhadjer', 2279: 'Ati', 2722: 'Yao', 4498: 'Faya', 4517: 'Amdjarass', 2287: 'Bousso', 2717: 'Massenya', 2296: 'Bokoro', 234: 'Ndjamena', 2295: 'Massakory', 2299: 'Mandelia', 2716: 'Massaguet', 233: 'Moussoro', 230: 'Mao', 2291: 'Nokou', 2297: 'Ngouri', 2718: 'Mondo', 232: 'Moundou', 236: 'Gore', 2293: 'Doba', 2303: 'Mba√Øbokoum', 2708: 'Bebedja', 2709: 'Beboto', 2710: 'Bodo', 2711: 'Fianga', 1964: 'Bongor', 2712: 'Gueledeng', 2288: 'Pala', 2721: 'Lere', 235: 'Sarh', 2285: 'Maro', 2281: 'Kyabe', 2282: 'Koumra', 2283: 'Moissala', 2284: 'Peni', 228: 'Abeche', 2302: 'Abdi', 2290: 'Goz Beida', 2301: 'Amdam', 2289: 'La√Ø', 1963: 'K√©lo', 2605: 'Sijiazhuang', 2584: 'Heilongjiang', 2615: 'Zhengzhou', 2585: 'Hubei', 2612: 'Wuhan', 2587: 'Jiujiang', 2586: 'Jilin', 2592: 'Linyi', 2604: 'Shandong', 2614: 'Yuncheng', 2583: 'Hangzhou', 842: 'Medellin', 848: 'San Vicente', 845: 'Barranquilla', 855: 'Cartagena', 853: 'Tunja', 3676: 'Manizales', 3677: 'Florencia', 850: 'Popayan', 854: 'Valledupar', 844: 'Monteria', 840: 'Bogota', 3678: 'Villeta', 3679: 'Neiva', 3681: 'Santa Marta', 846: 'Villavicencio', 849: 'Pasto', 851: 'Cucuta', 3682: 'Pamplona', 847: 'Armenia', 3683: 'Pereira', 852: 'Bucaramanga', 843: 'Sincelejo', 3684: 'Ibague', 841: 'Cali', 3685: 'Buenaventura', 3686: 'Palmira', 3687: 'Tulua', 1821: 'Nkayi', 1822: 'Owando', 1820: 'Sibiti', 704: 'Bakandi', 705: 'Monzombo', 2095: 'Kinkala', 707: 'Grand march√©/Fond Nti√©-Nti√©/Nkouikou', 701: 'Moungali', 702: 'Ouenz√©', 703: 'Mikalou', 706: 'Total', 300: 'National Average', 128: 'Odienne', 1807: 'Korhogo', 2807: 'Ferkessedougou', 2808: 'Boundiali', 2809: 'Ouangolodougou', 839: 'Abengourou', 125: 'Bouake', 126: 'Katiola', 834: 'Adjame', 837: 'Duekoue', 835: 'Daloa', 127: 'Man', 836: 'Danane', 838: 'Guiglo', 1596: 'Bandundu ville', 1597: 'Kikwit', 2415: 'Kahemba', 2416: 'Kajiji', 2419: 'Mukoso', 1598: 'Boma', 1599: 'Matadi', 146: 'Mbandaka', 1649: 'Gbadolite', 2262: 'Inke', 2263: 'Mole', 2306: 'Libenge', 3034: 'Boyabu', 1601: 'Tshikapa', 1602: 'Kananga', 2264: 'Zkele', 2265: 'Dibumba', 2266: 'Kamwesha', 2267: 'Kamalenga', 2275: 'Mwetshi', 2276: 'Mashala', 2277: 'Kajiba', 2278: 'Kalombo', 2314: 'Tshibamba', 2315: 'Banga Lubaka', 2414: 'Bipongo', 2417: 'Kamako', 2418: 'Mayimbi', 2420: 'Mutena', 3040: 'Ndjoko Punda', 3041: 'Kasongo Mule', 3215: 'Kamonia', 3216: 'Luebo', 3217: 'Bunkonde Centre', 3218: 'Tshikele', 3219: 'Luiza Centre', 1603: 'Mwene-Ditu', 1651: 'Mbuji-mayi', 143: 'Kalemie', 145: 'Lubumbashi', 148: 'Kabalo', 1395: 'Moba', 1604: 'Kamina', 1605: 'Kolwezi', 1606: 'Likasi', 1610: 'Dungu', 2272: 'Pweto', 2669: 'Katutu', 2670: 'Kitule gare', 2671: 'Mosantu premier', 2672: 'Ngwena gare', 2673: 'Pongo', 144: 'Kinshasa', 149: 'Kindu', 152: 'Goma', 1607: 'Beni', 1650: 'Butembo', 2312: 'Mweso', 2313: 'Nyanzale', 3035: 'Virunga', 3036: 'Alanine', 3037: 'Birere', 3038: 'Mugunga3', 3039: 'Nyiragongo', 151: 'Bunia', 1608: 'Kisangani', 1609: 'Isiro', 1648: 'Zongo', 2271: 'Aba', 2273: 'Biringi', 2274: 'Aru', 2791: 'Bule', 2792: 'Largu', 2793: 'Mambasa', 2794: 'Mahagi', 2795: 'Komanda', 2796: 'Tchomia', 2797: 'Kasenyi', 2798: 'Bele', 147: 'Uvira', 150: 'Bukavu', 2268: 'Lusenda', 2304: 'Baraka', 537: 'Ali Sabieh', 1829: 'Ali Addeh', 538: 'Dikhil', 536: 'Arta', 2576: 'Djibouti', 539: 'Obock', 540: 'Tadjourah', 1285: 'National Average', 2602: 'Santo Domingo', 2573: 'Cuenca', 2599: 'Riobamba', 2582: 'Guayaquil', 2596: 'Portoviejo', 2598: 'Quito', 2563: 'Ambato', 226: 'National Average', 1904: 'National Average', 153: 'Ahuachapan', 162: 'Sensuntepeque', 154: 'Chalatenango', 155: 'Cojutepeque', 165: 'Zacatecoluca', 156: 'La Union', 157: 'San Francisco Gotera', 158: 'San Miquel', 159: 'San Salvador', 160: 'San Vicente', 161: 'Santa Ana', 163: 'Sonsonate', 164: 'Usulutan', 2564: 'Asmara', 2594: 'Massawa', 480: 'Addis Ababa', 511: 'Abaala', 1831: 'Asayta', 3647: 'Gubiya/yalo', 3666: 'Awash arba', 3669: 'Dalifagi', 3672: 'Chifra', 465: 'Robit', 467: 'Abomsa', 469: 'Bati', 475: 'Kobo', 482: 'Baher Dar', 484: 'Dessie', 485: 'Gonder', 489: 'Ajeber', 492: 'Ebinat', 496: 'Mota', 497: 'Sekota', 502: 'Debre Markos', 503: 'Bure', 504: 'Debre Birhan', 510: 'Debark', 3060: 'Bichena', 3061: 'Dejen', 3064: 'Harbu', 3065: 'Kemise', 3066: 'Masha', 3067: 'Mersa', 3068: 'Segno Gebeya', 3069: 'Jiga', 3070: 'Shewa Robit', 3080: 'Bitchena', 1832: 'Assosa', 3671: 'Gilgelbeles', 5064: 'Kemashi', 472: 'Diredawa', 506: 'Gambela', 517: 'Meti', 3078: 'Punido', 3651: 'Kowerneng/Korgang', 3075: 'Harar', 473: 'Gamo Gofa', 474: 'Hossana', 476: 'Sodo', 478: 'Wonago', 490: 'Amaro', 493: 'Karati', 498: 'Turmi', 513: 'Aroresa', 516: 'Hawassa', 3079: 'Alaba', 3648: 'Sawla', 3650: 'Aleta Wondo', 3656: 'Key Afer', 3657: 'Arba Minch', 3659: 'Dila', 3661: 'Jinka', 3664: 'Dalocha', 4108: 'Enseno', 458: 'Alamata', 459: 'Korem', 466: 'Abi Adi', 477: 'Wekro', 487: 'Mekele', 505: 'Humera', 507: 'Adwa', 508: 'Adigrat', 509: 'Hawzien', 856: \"Sik'ela\", 3107: 'Shire', 3653: 'May Tsemre', 3673: 'Mehoni', 3674: 'Quiha', 3675: 'Sheraro', 462: 'Babile', 463: 'Beddenno', 464: 'Deder', 468: 'Wolenchiti', 470: 'Bedessa', 471: 'Delo', 479: 'Yabelo', 481: 'Ambo', 483: 'Robe', 486: 'Jimma', 488: 'Shashemene', 491: 'Assela', 494: 'Kersa', 495: 'Merti', 499: 'Nekempt', 500: 'Woliso', 501: 'Ziway', 512: 'Nazareth', 514: 'Derashe', 515: 'Gordamole', 3063: 'Eteya', 3076: 'Haromaya', 3077: 'Chiro', 3652: 'Gohatsiyon/GebreGuracha', 3654: 'Moyale', 3660: 'Negele', 3663: 'Ginnir', 3665: 'Mechara', 3667: 'Girawa', 460: 'Gode', 461: 'Jijiga', 3108: 'Dolo Ado', 3649: 'Dekasuftu', 3655: 'Filtu', 3662: 'Kebri Dehar', 4630: 'Charati', 2591: 'Libreville', 279: 'Bansang', 284: 'Kaur Wharf Town', 287: 'Kuntaur', 915: 'Wellingara', 916: 'Brikamaba', 920: 'Wassu', 1356: 'Jarreng', 288: 'Kwinella Nya Kunda', 914: 'Soma', 282: 'Essau / Barra', 283: 'Farafenni', 285: 'Kerewan', 286: 'Ker Pate Kore', 289: 'Lamin', 919: 'Ndugu Kebbeh', 3737: 'Fass Njaga Choi', 280: 'Basse Santa su', 917: 'Sare Ngai', 918: 'Sare Bojo', 3736: 'Fatoto', 281: 'Brikama', 913: 'Sibanor', 1355: 'Gunjur', 1514: 'Kalagi', 277: 'Bakau', 278: 'Banjul', 290: 'Latri kunda', 912: 'Serrekunda', 301: 'Tbilisi', 215: 'Kumasi', 216: 'Obuasi', 223: 'Ejura', 217: 'Sunyani', 218: 'Techiman', 1711: 'Badu', 1724: 'Kajeji', 1726: 'Kintampo', 1738: 'Yeji', 213: 'Cape Coast', 214: 'Mankessim', 212: 'Koforidua', 209: 'Accra', 210: 'Tema', 220: 'Tamale', 1712: 'Banda', 1714: 'Bimbilla', 1717: 'Bunkprugu', 1721: 'Gushegu', 1727: 'Kpandai', 1731: 'Nalerigu', 1734: 'Saboba', 1739: 'Yendi', 1740: 'Zabzugu', 221: 'Bolga', 1713: 'Bawku', 1715: 'Bongo', 1719: 'Fumbisi', 1720: 'Garu', 1732: 'Navrongo', 222: 'Wa', 1722: 'Jirapa', 1729: 'Lawra', 1730: 'Nadowli', 1736: 'Tumu', 1737: 'Wichau', 219: 'Ho', 1718: 'Dambai', 1723: 'Kadjebi', 1725: 'Kete Krachi', 1728: 'Kpassa', 1733: 'Nkwanta', 2802: 'Hohoe', 211: 'Sekondi/Takoradi', 200: 'National Average', 1145: 'La Terminal', 1574: 'Koundara', 1639: 'Boke', 1771: 'Tan√®ne', 354: 'Conakry-Y√©gu√©ma', 355: 'Conakry-Yimbaya', 356: 'Conakry-Concasseur', 1571: 'Conakry-Madina', 2572: 'Conakry-Niger', 1769: 'Faranah', 1770: 'Kissidougou', 357: 'Dibida (Kankan)', 1767: 'Kindia', 1573: 'March√© central (Lab√©)', 1768: 'Mamou', 358: 'Grand march√© (Nzerekore)', 2049: 'Lola', 2050: 'Beyla', 2051: 'Macenta', 2052: 'Gueckedou', 1922: 'Kirintim', 1923: 'Nhambane', 4568: 'Bambadinca', 4577: 'Gamamudo', 4592: 'Cosse', 4600: 'Xitole', 3102: 'Quinhamel', 4566: 'Bissau-Plack', 4585: 'Prabis', 4590: 'Safim', 3106: 'Bolama', 4575: 'Caravela', 4582: 'Uno', 4587: 'Bubaque', 3105: 'Cacheu', 4570: 'Caio', 4571: 'Bula', 4572: 'Canchungo', 4576: 'Bigene', 4596: 'Sao Domingos', 3104: 'Gabu', 4574: 'Sonaco', 4583: 'Boe', 4588: 'Contuboel', 4591: 'Pitche', 4593: 'Pirada', 3101: 'Bissora', 4578: 'Mansaba', 4579: 'Farim', 4595: 'Mansoa', 4598: 'Nhacra', 3100: 'Cruzamento', 4581: 'Fulacunda', 4586: 'Tite', 4594: 'Empada', 227: 'Bissau-Bandim', 4567: 'Bissau-Pefine', 4584: 'Bissau-Caracol', 4589: 'Mercado Central-Bissau-Velho', 4599: 'Bissau-Bairro Militar', 3099: 'Catio', 4569: 'Quebo', 4573: 'Cacine', 4580: 'Komo', 4597: 'Bedanda', 103: 'Gonaives', 104: 'Hinche', 106: 'Jeremie', 107: 'Cap-Haitien', 108: 'Ouanaminthe', 110: 'Port-de-Paix', 109: 'Port-au-Prince', 102: 'Cayes', 105: 'Jacmel', 297: 'National Average', 2601: 'San Pedro Sula', 2608: 'Tegucigalpa', 974: 'National Average', 2821: 'Pasar Lapang', 2822: 'Pasar Ujong Baro', 2823: 'Pasar Peunayong', 2824: 'Pasar Ulee Kareng', 2825: 'Pasar Inpres', 2826: 'Pasar Kota Lhokseumawe', 2827: 'Pasar Anyar (Kab. Buleleng)', 2828: 'Pasar Banyuasri', 2829: 'Pasar Badung', 2830: 'Pasar Kreneng', 2837: 'Pasar Barukoto (Kota Bengkulu)', 2838: 'Pasar Minggu (Kota Bengkulu)', 2839: 'Pasar Pagar Dewa', 2840: 'Pasar Panorama', 2841: 'Pasar Beringharjo', 2842: 'Pasar Kranggan', 2843: 'Pasar Minggu (Kota Jakarta Selatan)', 2844: 'Pasar Jatinegara', 2845: 'Pasar Kramatjati', 2849: 'Pasar Bungur', 2850: 'Pasar Seroja', 2851: 'Pasar Angso Duo Jambi', 2852: 'Pasar Talang Banjar Jambi', 2853: 'Pasar Mundu', 2854: 'Pasar Weru', 2855: 'Pasar Kiara Condong', 2856: 'Pasar Kosambi', 2857: 'Pasar Kranji', 2858: 'Pasar Pondok Gede (Kota Bekasi)', 2859: 'Pasar Anyar (Kota Bogor)', 2860: 'Pasar Warung Jambu 2', 2861: 'Pasar Kanoman', 2862: 'Pasar Kramat', 2863: 'Pasar Agung', 2864: 'Pasar Cisalak', 2865: 'Pasar Gudang', 2866: 'Pasar Pelita', 2867: 'Pasar Cikurubuk', 2868: 'Pasar Pancasila', 2869: 'Pasar Manonjaya', 2870: 'Pasar Singaparna', 2871: 'Pasar Manis', 2872: 'Pasar Wage', 2873: 'Pasar Kota Boyolali (Kab. Boyolali)', 2874: 'Pasar Sunggingan (Kab. Boyolali)', 2875: 'Pasar Gede (Kab. Cilacap)', 2876: 'Pasar Sidodadi', 2877: 'Pasar Bejen (Kab. Karanganyar)', 2878: 'Pasar Jungke (Kab. Karanganyar)', 2879: 'Pasar Delanggu', 2880: 'Pasar Klaten Kota', 2881: 'Pasar Johar', 2882: 'Pasar Peterongan', 2883: 'Pasar Gede (Kota Surakarta)', 2884: 'Pasar Legi (Kota Surakarta)', 2885: 'Pasar Anyar Martoloyo (Kota Tegal)', 2886: 'Pasar Pagi (Kota Tegal)', 2887: 'Pasar Bitingan', 2888: 'Pasar Kliwon', 2889: 'Pasar Bunder', 2890: 'Pasar Gemolong', 2891: 'Pasar Kartasura', 2892: 'Pasar Sukoharjo', 2893: 'Pasar Kota Wonogiri', 2894: 'Pasar Ngadirojo', 2895: 'Pasar Banyuwangi', 2896: 'Pasar Rogojampi', 2897: 'Pasar Kreyongan', 2898: 'Pasar Mangli', 2899: 'Pasar Tanjung (Kab. Jember)', 2900: 'Pasar Legi (Kota Blitar)', 2901: 'Pasar Pon', 2902: 'Pasar Pahing', 2903: 'Pasar Setono Betek', 2904: 'Pasar Besar (Kota Madiun)', 2905: 'Pasar Sleko', 2906: 'Pasar Besar (Kota Malang)', 2907: 'Pasar Dinoyo', 2908: 'Pasar Merjosari', 2909: 'Pasar Baru (Kota Probolinggo)', 2910: 'Pasar Wonoasih', 2911: 'Pasar Tambah Rejo', 2912: 'Pasar Wonokromo', 2913: 'Pasar Anom', 2914: 'Pasar Bangka', 2915: 'Pasar Dahlia', 2916: 'Pasar Flamboyan', 2917: 'Pasar Puring', 2918: 'Pasar Teratai', 2919: 'Pasar Beringin', 2920: 'Pasar Kuala Alianyang', 2921: 'Pasar Antasari', 2922: 'Pasar Lama', 2923: 'Pasar Tanjung (Kab. Tabalong)', 2924: 'Pasar Besar (Kota Palangka Raya)', 2925: 'Pasar Kahayan', 2926: 'Pasar Pusat Pembelanjaan Mentaya (ppm)', 2927: 'Pasar Subuh Sampit', 2928: 'Pasar Klandasan', 2929: 'Pasar Pandan Sari', 2930: 'Pasar Loktuan', 2931: 'Pasar Rawa Indah', 2932: 'Pasar Pagi (Kota Samarinda)', 2933: 'Pasar Segiri', 2934: 'Pasar Agro Politan', 2935: 'Pasar Induk Tj Selor', 2936: 'Pasar Gusher', 2937: 'Pasar Tenguyun', 2947: 'Pasar Pelantar Kud', 2948: 'Pasar Smep', 2949: 'Pasar Tugu', 2950: 'Pasar Kopindo', 2951: 'Pasar Tejo Agung 24', 2952: 'Pasar Gotong Royong', 2953: 'Pasar Mardika', 2954: 'Pasar Tual', 2955: 'Pasar Langgur', 2956: 'Pasar Bastiong', 2957: 'Pasar Gamalama', 2958: 'Pasar Amahami', 2959: 'Pasar Kebon Roek', 2960: 'Pasar Mandalika', 2961: 'Pasar Aikmel', 2962: 'Pasar Seketeng', 2963: 'Pasar Inpres Naikoten', 2964: 'Pasar Oeba', 2965: 'Pasar Alok', 2966: 'Pasar Tingkat', 2977: 'Pasar Kayu Jati', 2978: 'Pasar Terapung', 2979: 'Pasar Sukaramai (Kab. Kampar)', 2980: 'Pasar Pulau Payung', 2981: 'Pasar Senggol', 2982: 'Pasar Arengka', 2983: 'Pasar Cik Puan', 2984: 'Pasar Dupa', 2989: 'Pasar Bajoe', 2990: 'Pasar Sentral (Kab. Bone)', 2991: 'Pasar Cekkeng', 2992: 'Pasar Sentral (Kab. Bulukumba)', 2993: 'Pasar Daya', 2994: 'Pasar Pabaeng - Baeng', 2995: 'Pasar Andi Tadda', 2996: 'Pasar Sentral (Kota Palopo)', 2997: 'Pasar Labukkang', 2998: 'Pasar Lakessi', 2999: 'Pasar Manonda', 3000: 'Pasar Masomba', 3001: 'Pasar Karya Nugraha', 3002: 'Pasar Wameo', 3003: 'Pasar Kota', 3004: 'Pasar Mandonga', 3005: 'Pasar Bersehati', 3006: 'Pasar Karombasan', 3007: 'Pasar Aur Kuning', 3008: 'Pasar Bawah', 3009: 'Pasar Raya', 3010: 'Pasar Siteba', 3011: 'Pasar Inpres Lubuklinggau', 3012: 'Pasar Cinde', 3013: 'Pasar Lemabang', 3014: 'Pasar Aksara', 3015: 'Pasar Brayan', 3016: 'Pasar Petisah', 3017: 'Pasar Sukaramai (Kota Medan)', 3018: 'Pusat Pasar', 3019: 'Pasar Batu', 3020: 'Pasar Sangkumpal Bonang', 3021: 'Pasar Dwikora', 3022: 'Pasar Horas', 3023: 'Pasar Aek Habil', 3024: 'Pasar Nauli Sibolga', 2938: 'Pasar Hatta', 2939: 'Pasar Tanjungpandan (Kab. Belitung)', 2940: 'Pasar Pagi (Kota Pangkal Pinang)', 2941: 'Pasar Pembangunan', 2831: 'Pasar Kelapa', 2832: 'Pasar Kranggot', 2833: 'Pasar Rawu', 2834: 'Pasar Royal Lama', 2835: 'Pasar Anyar (Kota Tangerang)', 2836: 'Pasar Cileduk', 2846: 'Pasar Liluwo', 2847: 'Pasar Sentral (Kota Gorontalo)', 2848: 'Pasar Tua Biawu', 2973: 'Pasar Boswezen', 2974: 'Pasar Remu', 2975: 'Pasar Sanggeng', 2976: 'Pasar Wosi', 2942: 'Pasar Aviari', 2944: 'Pasar Sagulung', 2945: 'Pasar Tos 3000 Jodoh', 2946: 'Pasar Bintan Centre', 2967: 'Pasar Baru Sentani (Kab. Jayapura)', 2968: 'Pasar Lama Sentani', 2969: 'Pasar Entrop Atau Hamadi', 2970: 'Pasar Yotefa Abepura', 2971: 'Pasar Baru (Kab. Merauke)', 2972: 'Pasar Wamanggu', 2985: 'Pasar Baru (sentral Majene) (Kab. Majene)', 2986: 'Pasar Baru (regional Mamuju) (Kab. Mamuju)', 2987: 'Pasar Lama (sentral Mamuju)', 2988: 'Pasar Wonomulyo', 1652: 'Tehran Market', 1300: 'National Average', 1464: 'Anbar', 1496: 'Basrah', 1471: 'Muthanna', 1472: 'Qadisiya', 1470: 'Najaf', 1474: 'Erbil', 1513: 'Kirkuk', 1495: 'Babylon', 1493: 'Baghdad', 1473: 'Thi-Qar', 1492: 'Dohuk', 1465: 'Diyala', 1469: 'Kerbela', 1468: 'Maysan', 1475: 'Nainawa', 1466: 'Salah al-deen', 1494: 'Sulaimaniyah', 1467: 'Wasit', 2620: 'Osaka', 2619: 'Tokyo', 532: 'National Average', 2085: 'Ajloun', 2086: 'Al Balqa', 2089: 'Al Aqaba', 2088: 'Al Karak', 2087: 'Amman', 2092: 'Al Tafilah', 2083: 'Irbid', 2094: 'Jarash', 2093: 'Maan', 2090: 'Madaba', 2084: 'Al Mafraq', 2091: 'Zarqa', 2622: 'Nur-Sultan', 2623: 'Kostanay', 2624: 'Aktau', 2621: 'Almaty', 191: 'Mombasa', 1852: 'Kilifi', 1854: 'Hola (Tana River)', 4235: 'Junda (Mombasa)', 4236: 'Moroto (Mombasa)', 4238: 'Bangladesh (Mombasa)', 4239: 'Kalahari (Mombasa)', 4242: 'Shonda (Mombasa)', 4245: 'Kisumu Ndogo (Mombasa)', 187: 'Kitui', 190: 'Marsabit', 3262: 'Isiolo town', 3358: 'Marsabit town', 184: 'Nairobi', 4624: 'Mathare (Nairobi)', 4625: 'Kawangware (Nairobi)', 4626: 'Kangemi (Nairobi)', 4627: 'Kibra (Nairobi)', 4628: 'Dandora (Nairobi)', 4629: 'Mukuru (Nairobi)', 189: 'Mandera', 1855: 'Garissa', 3243: 'Dadaab town', 3252: 'Dagahaley (Daadab)', 3254: 'Hagadera (Daadab)', 3255: 'IFO (Daadab)', 3271: 'Wajir town', 3356: 'Garissa town', 186: 'Kisumu', 185: 'Eldoret town', 188: 'Lodwar (Turkana)', 1850: 'Nakuru', 1851: 'Marigat (Baringo)', 1853: 'Kajiado', 3244: 'Kalobeyei (Village 1)', 3245: 'Mogadishu (Kakuma)', 3246: 'Kalobeyei (Village 2)', 3247: 'Kalobeyei (Village 3)', 3248: 'Kakuma 2', 3249: 'Kakuma 4', 3250: 'HongKong (Kakuma)', 3251: 'Kakuma 3', 3253: 'Ethiopia (Kakuma)', 3355: 'Marigat town', 3360: 'Lodwar town', 2674: 'National Average', 680: 'Batken', 681: 'Karabak', 1481: 'Samarkandek', 2045: 'Isfana', 671: 'Bishkek', 1425: 'Kemin', 1477: 'Bystrovka', 1890: 'Kara-Balta', 1891: 'Tokmok', 676: 'Suzak', 677: 'Kyzyl-Tuu', 1422: 'Arslanbob', 1423: 'Bazar-Korgon', 1424: 'Jalal-Abad', 2042: 'Kerben', 2043: 'Toktogul', 673: 'Naryn', 674: 'Dobolu', 1476: 'At-Bashi', 1479: 'Orto-Nura', 2044: 'Chaek', 672: 'Osh', 682: 'Kara-Suu', 1427: 'Nookat', 2047: 'Uzgen', 678: 'Kyzyl-Adyr', 679: 'Pokrovka', 1426: 'Kok-Say', 1480: 'Talas', 675: 'Teplokluchenka', 683: 'Sary-Kamysh', 1478: 'Kaiyrma-Aryk', 1900: 'Karakol', 2041: 'Balykchy', 1646: 'Attapeu', 1642: 'Bokeo', 1568: 'Borikhamxay', 669: 'Champassack', 1643: 'Huaphanh', 667: 'Khammouane', 670: 'Luang Prabang', 1566: 'Luangnamtha', 1641: 'Oudomxay', 1640: 'Phongsaly', 1569: 'Saravane', 668: 'Savannakhet', 1644: 'Xayabury', 1645: 'Sekong', 1647: 'Vientiane Province', 666: 'Vientiane Municipality', 1567: 'Xiengkhuang', 1312: 'National Average', 1687: 'Baalbeck', 1695: 'Hermel', 1703: 'Rashaya', 1707: 'West Beqaa', 1708: 'Zahle', 1689: 'Beirut', 1684: 'Akkar', 1688: 'Batroun', 1691: 'Bechare', 1699: 'Koura', 1701: 'Minieh-Dannieh', 1705: 'Tripoli', 1709: 'Zgharta', 1697: 'Jezzine', 1704: 'Saida', 1706: 'Sour', 1685: 'Aley', 1686: 'Baabda', 1692: 'Chouf', 1693: 'El Metn', 1696: 'Jbeil', 1698: 'Keserwan', 1690: 'Bint Jbeil', 1694: 'Hasbaya', 1700: 'Marjayoun', 1702: 'Nabatiyeh', 525: 'Berea', 523: 'Butha Buthe', 524: 'Leribe', 526: 'Mafeteng', 522: 'Maseru', 527: \"Mohale's Hoek\", 531: 'Mokhotlong', 530: \"Qacha's Nek\", 528: 'Quthing', 529: 'Thaba Tseka', 237: 'Tubmanburg', 240: 'Gbarnga', 1809: 'Bopolu', 1811: 'Gbarma', 241: 'Buchanan', 242: 'Bo Waterside', 239: 'Zwedru', 631: 'Toe Town', 1808: 'Barclayville', 238: 'Voinjama', 243: 'Foya', 1743: 'Kakata', 244: 'Pleebo', 1747: 'Harper', 245: 'Red Light', 1742: 'Duala', 246: 'Saclepea', 1744: 'Ganta', 2616: 'Bahn', 1810: 'Cestos City', 1745: 'Fish Town', 1746: 'Tuobo-Gbaweeleken', 2617: 'Webbo Konowroken', 1748: 'Greenville', 1345: 'National Average', 2339: 'Nalut', 2340: 'Azzintan', 2341: 'AlMarj', 2342: 'Ghat', 2320: 'Ejdabia', 2321: 'Al Aziziya', 2322: 'Albayda', 2352: 'Aljufra', 2350: 'Alkhums', 2512: 'Msallata', 2324: 'Alkufra', 2326: 'Brak', 2337: 'Ubari', 2353: 'Azzawya', 2511: 'Janzour', 2325: 'Benghazi', 2328: 'Derna', 2329: 'Ghadamis', 2330: 'Ghiryan', 2510: 'Ashshgega', 2327: 'Zliten', 2354: 'Misrata', 2323: 'Algatroun', 2336: 'Murzuq', 2688: 'Wadi Etba', 2338: 'Sabratha', 2351: 'Zwara', 2332: 'Sebha', 2318: 'Bani Waleed', 2331: 'Sirt', 2319: 'Tarhuna', 2316: 'Abusliem', 2317: 'Suq Aljumaa', 2334: 'Tripoli center', 2335: 'Hai Alandalus', 2509: 'Ain Zara', 2513: 'Tajoura', 2333: 'Tobruk', 2514: 'Yefren', 750: 'Atsinanana (Region)', 739: 'Fort-Dauphin', 745: 'Vatovavy Fitovinany (Region)', 4619: 'Manakara', 751: 'Vakinakaratra (Region)', 747: 'Sofia (Region)', 759: 'Anosy (Region)', 761: 'Menabe (Region)', 743: 'Melaky (Region)', 744: 'Sava (Region)', 742: 'Ihorombe (Region)', 755: 'Haute Matsiatra (Region)', 746: 'Diana (Region)', 741: 'Boeny (Region)', 762: 'Betsiboka (Region)', 752: 'Atsimo Atsinanana (Region)', 732: 'Betioky', 733: 'Ampanihy', 757: 'Atsimo Andrefana (Region)', 4617: 'Toliara', 4618: 'Ankililoaka', 737: 'Amboasary Sud', 734: 'Beloha', 735: 'Tsihombe', 736: 'Ambovombe-androy', 738: 'Bekily', 748: 'Bongolava (Region)', 749: 'Androy (Region)', 758: 'Analanjirofo (Region)', 740: 'Antananarivo', 756: 'Itasy (Region)', 760: \"Amoron'I Mania (Region)\", 753: 'Analamanga (Region)', 754: 'Alaotra Mangoro (Region)', 765: 'Bembeke turn off', 766: 'Bowe', 768: 'Chatoloma', 771: 'Chimbiya', 775: 'Dwangwa', 780: 'Kasungu', 785: 'Madisi', 786: 'Malomo', 789: 'Mchinji', 791: 'Mitundu', 792: 'Mkanda', 795: 'Mponela', 796: 'Mtakataka', 798: 'Mwansambo', 803: 'Nanjiri', 807: 'Nkhamenya', 809: 'Nkhoma', 810: 'Nkhotakota', 812: 'Nsundwe', 814: 'Ntcheu', 815: 'Ntchisi', 819: 'Salima', 820: 'Santhe', 821: 'Sharpevaley', 822: 'Thete', 825: 'Dowa', 826: 'Lizulu', 827: 'Lilongwe', 829: 'Kasiya', 831: 'Nambuma', 832: 'Ntonda', 833: 'Tsangano turn off', 1710: 'Chamama', 2111: 'Area 23', 2112: 'Kambilonje', 2113: 'Khuwi', 2114: 'Nsikawanjala', 2115: 'Nsungwi', 2116: 'Waliranji', 2125: 'Kamsonga', 2223: 'Kamwendo', 2224: 'Golomoti', 2225: 'Kamuzu Road', 2226: 'Thavite', 2421: 'Dzaleka', 3630: 'Ntakataka', 770: 'Chilumba', 772: 'Chintheche', 774: 'Chitipa', 776: 'Embangweni', 777: 'Hewe', 779: 'Karonga', 790: 'Misuku', 794: 'Mpamba', 800: 'Mzimba', 801: 'Mzuzu', 808: 'Nkhatabay', 816: 'Nthalire', 818: 'Rumphi', 828: 'Jenda', 2117: 'Kameme', 2118: 'Uliwa', 2227: 'Euthin', 2228: 'Manyamula', 2229: 'Bolero', 3735: 'Vigwagwa', 763: 'Balaka', 764: 'Bangula', 767: 'Bvumbwe', 769: 'Chikhwawa', 773: 'Chiradzulu', 778: 'Jali', 781: 'Limbe', 782: 'Liwonde', 783: 'Luchenza', 784: 'Lunzu', 787: 'Mangochi', 788: 'Mayaka', 793: 'Monkey Bay', 797: 'Muloza', 799: 'Mwanza', 802: 'Namwera', 804: 'Nchalo', 805: 'Neno', 806: 'Ngabu', 811: 'Sorgin', 813: 'Ntaja', 817: 'Phalombe', 823: 'Thondwe'}\n"
     ]
    }
   ],
   "source": [
    "market2_names_dictionary=pd.Series(df.mkt_name.values,index=df.mkt_id).to_dict()\n",
    "print(market2_names_dictionary)"
   ]
  },
  {
   "cell_type": "code",
   "execution_count": 39,
   "metadata": {},
   "outputs": [
    {
     "data": {
      "text/html": [
       "<div>\n",
       "<style scoped>\n",
       "    .dataframe tbody tr th:only-of-type {\n",
       "        vertical-align: middle;\n",
       "    }\n",
       "\n",
       "    .dataframe tbody tr th {\n",
       "        vertical-align: top;\n",
       "    }\n",
       "\n",
       "    .dataframe thead th {\n",
       "        text-align: right;\n",
       "    }\n",
       "</style>\n",
       "<table border=\"1\" class=\"dataframe\">\n",
       "  <thead>\n",
       "    <tr style=\"text-align: right;\">\n",
       "      <th></th>\n",
       "      <th>adm0_id</th>\n",
       "      <th>adm0_name</th>\n",
       "      <th>adm1_id</th>\n",
       "      <th>mkt_id</th>\n",
       "      <th>cm_id</th>\n",
       "      <th>cm_name</th>\n",
       "      <th>cur_id</th>\n",
       "      <th>cur_name</th>\n",
       "      <th>pt_id</th>\n",
       "      <th>pt_name</th>\n",
       "      <th>um_id</th>\n",
       "      <th>um_name</th>\n",
       "      <th>mp_month</th>\n",
       "      <th>mp_year</th>\n",
       "      <th>mp_price</th>\n",
       "      <th>mp_commoditysource</th>\n",
       "    </tr>\n",
       "  </thead>\n",
       "  <tbody>\n",
       "    <tr>\n",
       "      <th>0</th>\n",
       "      <td>1</td>\n",
       "      <td>Afghanistan</td>\n",
       "      <td>272</td>\n",
       "      <td>266</td>\n",
       "      <td>55</td>\n",
       "      <td>Bread - Retail</td>\n",
       "      <td>0</td>\n",
       "      <td>AFN</td>\n",
       "      <td>15</td>\n",
       "      <td>Retail</td>\n",
       "      <td>5</td>\n",
       "      <td>KG</td>\n",
       "      <td>1</td>\n",
       "      <td>2014</td>\n",
       "      <td>50.0</td>\n",
       "      <td>NaN</td>\n",
       "    </tr>\n",
       "    <tr>\n",
       "      <th>1</th>\n",
       "      <td>1</td>\n",
       "      <td>Afghanistan</td>\n",
       "      <td>272</td>\n",
       "      <td>266</td>\n",
       "      <td>55</td>\n",
       "      <td>Bread - Retail</td>\n",
       "      <td>0</td>\n",
       "      <td>AFN</td>\n",
       "      <td>15</td>\n",
       "      <td>Retail</td>\n",
       "      <td>5</td>\n",
       "      <td>KG</td>\n",
       "      <td>2</td>\n",
       "      <td>2014</td>\n",
       "      <td>50.0</td>\n",
       "      <td>NaN</td>\n",
       "    </tr>\n",
       "    <tr>\n",
       "      <th>2</th>\n",
       "      <td>1</td>\n",
       "      <td>Afghanistan</td>\n",
       "      <td>272</td>\n",
       "      <td>266</td>\n",
       "      <td>55</td>\n",
       "      <td>Bread - Retail</td>\n",
       "      <td>0</td>\n",
       "      <td>AFN</td>\n",
       "      <td>15</td>\n",
       "      <td>Retail</td>\n",
       "      <td>5</td>\n",
       "      <td>KG</td>\n",
       "      <td>3</td>\n",
       "      <td>2014</td>\n",
       "      <td>50.0</td>\n",
       "      <td>NaN</td>\n",
       "    </tr>\n",
       "    <tr>\n",
       "      <th>3</th>\n",
       "      <td>1</td>\n",
       "      <td>Afghanistan</td>\n",
       "      <td>272</td>\n",
       "      <td>266</td>\n",
       "      <td>55</td>\n",
       "      <td>Bread - Retail</td>\n",
       "      <td>0</td>\n",
       "      <td>AFN</td>\n",
       "      <td>15</td>\n",
       "      <td>Retail</td>\n",
       "      <td>5</td>\n",
       "      <td>KG</td>\n",
       "      <td>4</td>\n",
       "      <td>2014</td>\n",
       "      <td>50.0</td>\n",
       "      <td>NaN</td>\n",
       "    </tr>\n",
       "    <tr>\n",
       "      <th>4</th>\n",
       "      <td>1</td>\n",
       "      <td>Afghanistan</td>\n",
       "      <td>272</td>\n",
       "      <td>266</td>\n",
       "      <td>55</td>\n",
       "      <td>Bread - Retail</td>\n",
       "      <td>0</td>\n",
       "      <td>AFN</td>\n",
       "      <td>15</td>\n",
       "      <td>Retail</td>\n",
       "      <td>5</td>\n",
       "      <td>KG</td>\n",
       "      <td>5</td>\n",
       "      <td>2014</td>\n",
       "      <td>50.0</td>\n",
       "      <td>NaN</td>\n",
       "    </tr>\n",
       "  </tbody>\n",
       "</table>\n",
       "</div>"
      ],
      "text/plain": [
       "   adm0_id    adm0_name  adm1_id  mkt_id  cm_id         cm_name  cur_id  \\\n",
       "0        1  Afghanistan      272     266     55  Bread - Retail       0   \n",
       "1        1  Afghanistan      272     266     55  Bread - Retail       0   \n",
       "2        1  Afghanistan      272     266     55  Bread - Retail       0   \n",
       "3        1  Afghanistan      272     266     55  Bread - Retail       0   \n",
       "4        1  Afghanistan      272     266     55  Bread - Retail       0   \n",
       "\n",
       "  cur_name  pt_id pt_name  um_id um_name  mp_month  mp_year  mp_price  \\\n",
       "0      AFN     15  Retail      5      KG         1     2014      50.0   \n",
       "1      AFN     15  Retail      5      KG         2     2014      50.0   \n",
       "2      AFN     15  Retail      5      KG         3     2014      50.0   \n",
       "3      AFN     15  Retail      5      KG         4     2014      50.0   \n",
       "4      AFN     15  Retail      5      KG         5     2014      50.0   \n",
       "\n",
       "   mp_commoditysource  \n",
       "0                 NaN  \n",
       "1                 NaN  \n",
       "2                 NaN  \n",
       "3                 NaN  \n",
       "4                 NaN  "
      ]
     },
     "execution_count": 39,
     "metadata": {},
     "output_type": "execute_result"
    }
   ],
   "source": [
    "#Creating another dataframe to resolve Market name column 'object' dtype issue\n",
    "df_clean=pd.read_csv(\"/Users/narenkhatwani/Documents/GitHub/arkouda/Notebooks/Resources/wfpvam_foodprices_utf8.csv\",usecols = ['adm0_id','adm0_name','adm1_id','mkt_id','cm_id','cm_name','cur_id','cur_name','pt_id','pt_name','um_id','um_name','mp_month','mp_year','mp_price','mp_commoditysource'])\n",
    "\n",
    "df_clean.head(5)"
   ]
  },
  {
   "cell_type": "code",
   "execution_count": 40,
   "metadata": {},
   "outputs": [
    {
     "data": {
      "text/plain": [
       "adm0_id                 int64\n",
       "adm0_name              object\n",
       "adm1_id                 int64\n",
       "mkt_id                  int64\n",
       "cm_id                   int64\n",
       "cm_name                object\n",
       "cur_id                  int64\n",
       "cur_name               object\n",
       "pt_id                   int64\n",
       "pt_name                object\n",
       "um_id                   int64\n",
       "um_name                object\n",
       "mp_month                int64\n",
       "mp_year                 int64\n",
       "mp_price              float64\n",
       "mp_commoditysource    float64\n",
       "dtype: object"
      ]
     },
     "execution_count": 40,
     "metadata": {},
     "output_type": "execute_result"
    }
   ],
   "source": [
    "#Printing the datatypes of the columns\n",
    "df_clean.dtypes"
   ]
  },
  {
   "cell_type": "markdown",
   "metadata": {},
   "source": [
    "## Convert the csv to hdf file using to_hdf method of Python (not recommended)"
   ]
  },
  {
   "cell_type": "code",
   "execution_count": 43,
   "metadata": {
    "scrolled": true
   },
   "outputs": [
    {
     "name": "stderr",
     "output_type": "stream",
     "text": [
      "/Users/narenkhatwani/opt/anaconda3/lib/python3.8/site-packages/IPython/core/interactiveshell.py:3071: DtypeWarning: Columns (3) have mixed types.Specify dtype option on import or set low_memory=False.\n",
      "  has_raised = await self.run_ast_nodes(code_ast.body, cell_name,\n"
     ]
    }
   ],
   "source": [
    "df2=pd.read_csv(\"/Users/narenkhatwani/Documents/GitHub/arkouda/Notebooks/Resources/wfpvam_foodprices_utf8.csv\")\n",
    "\n",
    "df2.to_hdf(\"/Users/narenkhatwani/Documents/GitHub/arkouda/Notebooks/1st_Project/Food_prices_hdf5.h5\", 'data', mode='w', format='table')\n"
   ]
  },
  {
   "cell_type": "code",
   "execution_count": 1,
   "metadata": {},
   "outputs": [
    {
     "ename": "NameError",
     "evalue": "name 'pd' is not defined",
     "output_type": "error",
     "traceback": [
      "\u001b[0;31m---------------------------------------------------------------------------\u001b[0m",
      "\u001b[0;31mNameError\u001b[0m                                 Traceback (most recent call last)",
      "\u001b[0;32m<ipython-input-1-a8e89819e807>\u001b[0m in \u001b[0;36m<module>\u001b[0;34m\u001b[0m\n\u001b[0;32m----> 1\u001b[0;31m \u001b[0mprint\u001b[0m\u001b[0;34m(\u001b[0m\u001b[0mpd\u001b[0m\u001b[0;34m.\u001b[0m\u001b[0mread_hdf\u001b[0m\u001b[0;34m(\u001b[0m\u001b[0;34m'/Users/narenkhatwani/Documents/GitHub/arkouda/Notebooks/1st_Project/Food_prices_hdf5.h5'\u001b[0m\u001b[0;34m,\u001b[0m \u001b[0;34m'data'\u001b[0m\u001b[0;34m)\u001b[0m\u001b[0;34m.\u001b[0m\u001b[0mhead\u001b[0m\u001b[0;34m(\u001b[0m\u001b[0;36m5\u001b[0m\u001b[0;34m)\u001b[0m\u001b[0;34m)\u001b[0m\u001b[0;34m\u001b[0m\u001b[0;34m\u001b[0m\u001b[0m\n\u001b[0m",
      "\u001b[0;31mNameError\u001b[0m: name 'pd' is not defined"
     ]
    }
   ],
   "source": [
    "print(pd.read_hdf('/Users/narenkhatwani/Documents/GitHub/arkouda/Notebooks/1st_Project/Food_prices_hdf5.h5', 'data').head(5))"
   ]
  },
  {
   "cell_type": "markdown",
   "metadata": {},
   "source": [
    "# 2.1 Resolving the Currency Conversion "
   ]
  },
  {
   "cell_type": "code",
   "execution_count": 1,
   "metadata": {},
   "outputs": [],
   "source": [
    "import pandas as pd\n",
    "from forex_python.converter import CurrencyRates\n",
    "#improting the forex library that fetched the latest currency conversion rates"
   ]
  },
  {
   "cell_type": "code",
   "execution_count": 5,
   "metadata": {},
   "outputs": [
    {
     "data": {
      "text/html": [
       "<div>\n",
       "<style scoped>\n",
       "    .dataframe tbody tr th:only-of-type {\n",
       "        vertical-align: middle;\n",
       "    }\n",
       "\n",
       "    .dataframe tbody tr th {\n",
       "        vertical-align: top;\n",
       "    }\n",
       "\n",
       "    .dataframe thead th {\n",
       "        text-align: right;\n",
       "    }\n",
       "</style>\n",
       "<table border=\"1\" class=\"dataframe\">\n",
       "  <thead>\n",
       "    <tr style=\"text-align: right;\">\n",
       "      <th></th>\n",
       "      <th>adm0_id</th>\n",
       "      <th>adm0_name</th>\n",
       "      <th>adm1_id</th>\n",
       "      <th>adm1_name</th>\n",
       "      <th>mkt_id</th>\n",
       "      <th>mkt_name</th>\n",
       "      <th>cm_id</th>\n",
       "      <th>cm_name</th>\n",
       "      <th>cur_id</th>\n",
       "      <th>cur_name</th>\n",
       "      <th>pt_id</th>\n",
       "      <th>pt_name</th>\n",
       "      <th>um_id</th>\n",
       "      <th>um_name</th>\n",
       "      <th>mp_month</th>\n",
       "      <th>mp_year</th>\n",
       "      <th>mp_price</th>\n",
       "      <th>mp_commoditysource</th>\n",
       "    </tr>\n",
       "  </thead>\n",
       "  <tbody>\n",
       "    <tr>\n",
       "      <th>0</th>\n",
       "      <td>1</td>\n",
       "      <td>Afghanistan</td>\n",
       "      <td>272</td>\n",
       "      <td>Badakhshan</td>\n",
       "      <td>266</td>\n",
       "      <td>Fayzabad</td>\n",
       "      <td>55</td>\n",
       "      <td>Bread - Retail</td>\n",
       "      <td>0</td>\n",
       "      <td>AFN</td>\n",
       "      <td>15</td>\n",
       "      <td>Retail</td>\n",
       "      <td>5</td>\n",
       "      <td>KG</td>\n",
       "      <td>1</td>\n",
       "      <td>2014</td>\n",
       "      <td>50.0</td>\n",
       "      <td>NaN</td>\n",
       "    </tr>\n",
       "  </tbody>\n",
       "</table>\n",
       "</div>"
      ],
      "text/plain": [
       "   adm0_id    adm0_name  adm1_id   adm1_name  mkt_id  mkt_name  cm_id  \\\n",
       "0        1  Afghanistan      272  Badakhshan     266  Fayzabad     55   \n",
       "\n",
       "          cm_name  cur_id cur_name  pt_id pt_name  um_id um_name  mp_month  \\\n",
       "0  Bread - Retail       0      AFN     15  Retail      5      KG         1   \n",
       "\n",
       "   mp_year  mp_price  mp_commoditysource  \n",
       "0     2014      50.0                 NaN  "
      ]
     },
     "execution_count": 5,
     "metadata": {},
     "output_type": "execute_result"
    }
   ],
   "source": [
    "df.head(1)"
   ]
  },
  {
   "cell_type": "code",
   "execution_count": 8,
   "metadata": {},
   "outputs": [],
   "source": [
    "c = CurrencyRates()\n",
    "#fetch all the currency rates in USD\n",
    "a_dict=c.get_rates('USD')\n",
    "\n",
    "a_dict.update(USD=1)\n",
    "#adding the USD as 1 because all other currencies are w.r.t USD "
   ]
  },
  {
   "cell_type": "code",
   "execution_count": 9,
   "metadata": {},
   "outputs": [
    {
     "data": {
      "text/plain": [
       "{'EUR': 0.8625894936599672,\n",
       " 'JPY': 113.60303631501768,\n",
       " 'BGN': 1.687052531700164,\n",
       " 'CZK': 22.176313292504098,\n",
       " 'DKK': 6.416889502285862,\n",
       " 'GBP': 0.7277926334857241,\n",
       " 'HUF': 313.40464073147587,\n",
       " 'PLN': 3.984473389114121,\n",
       " 'RON': 4.269386698870007,\n",
       " 'SEK': 8.599154662296213,\n",
       " 'CHF': 0.9191753644440611,\n",
       " 'ISK': 129.0433882515311,\n",
       " 'NOK': 8.407487276804968,\n",
       " 'HRK': 6.482791339601484,\n",
       " 'RUB': 70.3909255585267,\n",
       " 'TRY': 9.612266022599844,\n",
       " 'AUD': 1.3293366686793755,\n",
       " 'BRL': 5.589407401017856,\n",
       " 'CAD': 1.2356594496679032,\n",
       " 'CNY': 6.397740015526611,\n",
       " 'HKD': 7.777710687483826,\n",
       " 'IDR': 14205.753471922711,\n",
       " 'INR': 74.87552833606487,\n",
       " 'KRW': 1171.129129647201,\n",
       " 'MXN': 20.343483136375397,\n",
       " 'MYR': 4.150004312947468,\n",
       " 'NZD': 1.3927369964633831,\n",
       " 'PHP': 50.648667299232294,\n",
       " 'SGD': 1.347623565944967,\n",
       " 'THB': 33.250237212110754,\n",
       " 'ZAR': 15.143017338048821,\n",
       " 'USD': 1}"
      ]
     },
     "execution_count": 9,
     "metadata": {},
     "output_type": "execute_result"
    }
   ],
   "source": [
    "a_dict #The AFN here is missing because there are no active conversion rates coming in this library from there"
   ]
  },
  {
   "cell_type": "code",
   "execution_count": 10,
   "metadata": {},
   "outputs": [],
   "source": [
    "import csv\n",
    "\n",
    "#Converting the dictionary to a csv file consisting of all the currencies and their conversions in USD\n",
    "(pd.DataFrame.from_dict(data=a_dict, orient='index').to_csv('/Users/narenkhatwani/Desktop/Resources_arkouda/dict_file.csv', header=True))\n",
    "#adding column names for the csv file\n",
    "header = [\"cur_name\", \"conversion_rate\"]\n",
    "\n",
    "\n",
    "with open('/Users/narenkhatwani/Desktop/Resources_arkouda/dict_file.csv', 'r') as fp:\n",
    "    reader = csv.DictReader(fp, fieldnames=header)\n",
    "\n",
    "    # use newline='' to avoid adding new CR at end of line\n",
    "    with open('/Users/narenkhatwani/Desktop/Resources_arkouda/clean_rates.csv', 'w', newline='') as fh: \n",
    "        writer = csv.DictWriter(fh, fieldnames=reader.fieldnames)\n",
    "        writer.writeheader()\n",
    "        header_mapping = next(reader)\n",
    "        writer.writerows(reader)#working"
   ]
  },
  {
   "cell_type": "code",
   "execution_count": 11,
   "metadata": {},
   "outputs": [
    {
     "name": "stderr",
     "output_type": "stream",
     "text": [
      "/Users/narenkhatwani/opt/anaconda3/lib/python3.8/site-packages/IPython/core/interactiveshell.py:3071: DtypeWarning: Columns (3) have mixed types.Specify dtype option on import or set low_memory=False.\n",
      "  has_raised = await self.run_ast_nodes(code_ast.body, cell_name,\n"
     ]
    }
   ],
   "source": [
    "data1 = pd.read_csv('/Users/narenkhatwani/Documents/GitHub/arkouda/Notebooks/Resources/wfpvam_foodprices_utf8_cur.csv') \n",
    "\n",
    "data2 = pd.read_csv('/Users/narenkhatwani/Desktop/Resources_arkouda/clean_rates.csv') \n",
    "\n",
    "# using merge function by setting how='left' \n",
    "\n",
    "output = pd.merge(data1, data2,on='cur_name',how='left') \n",
    "\n",
    "# displaying result "
   ]
  },
  {
   "cell_type": "code",
   "execution_count": 12,
   "metadata": {},
   "outputs": [
    {
     "data": {
      "text/html": [
       "<div>\n",
       "<style scoped>\n",
       "    .dataframe tbody tr th:only-of-type {\n",
       "        vertical-align: middle;\n",
       "    }\n",
       "\n",
       "    .dataframe tbody tr th {\n",
       "        vertical-align: top;\n",
       "    }\n",
       "\n",
       "    .dataframe thead th {\n",
       "        text-align: right;\n",
       "    }\n",
       "</style>\n",
       "<table border=\"1\" class=\"dataframe\">\n",
       "  <thead>\n",
       "    <tr style=\"text-align: right;\">\n",
       "      <th></th>\n",
       "      <th>adm0_id</th>\n",
       "      <th>adm0_name</th>\n",
       "      <th>adm1_id</th>\n",
       "      <th>adm1_name</th>\n",
       "      <th>mkt_id</th>\n",
       "      <th>mkt_name</th>\n",
       "      <th>cm_id</th>\n",
       "      <th>cm_name</th>\n",
       "      <th>cur_id</th>\n",
       "      <th>cur_name</th>\n",
       "      <th>pt_id</th>\n",
       "      <th>pt_name</th>\n",
       "      <th>um_id</th>\n",
       "      <th>um_name</th>\n",
       "      <th>mp_month</th>\n",
       "      <th>mp_year</th>\n",
       "      <th>mp_price</th>\n",
       "      <th>mp_commoditysource</th>\n",
       "      <th>conversion_rate</th>\n",
       "    </tr>\n",
       "  </thead>\n",
       "  <tbody>\n",
       "    <tr>\n",
       "      <th>0</th>\n",
       "      <td>1</td>\n",
       "      <td>Afghanistan</td>\n",
       "      <td>272</td>\n",
       "      <td>Badakhshan</td>\n",
       "      <td>266</td>\n",
       "      <td>Fayzabad</td>\n",
       "      <td>55</td>\n",
       "      <td>Bread - Retail</td>\n",
       "      <td>0</td>\n",
       "      <td>AFN</td>\n",
       "      <td>15</td>\n",
       "      <td>Retail</td>\n",
       "      <td>5</td>\n",
       "      <td>KG</td>\n",
       "      <td>1</td>\n",
       "      <td>2014</td>\n",
       "      <td>50.0</td>\n",
       "      <td>NaN</td>\n",
       "      <td>NaN</td>\n",
       "    </tr>\n",
       "    <tr>\n",
       "      <th>1</th>\n",
       "      <td>1</td>\n",
       "      <td>Afghanistan</td>\n",
       "      <td>272</td>\n",
       "      <td>Badakhshan</td>\n",
       "      <td>266</td>\n",
       "      <td>Fayzabad</td>\n",
       "      <td>55</td>\n",
       "      <td>Bread - Retail</td>\n",
       "      <td>0</td>\n",
       "      <td>AFN</td>\n",
       "      <td>15</td>\n",
       "      <td>Retail</td>\n",
       "      <td>5</td>\n",
       "      <td>KG</td>\n",
       "      <td>2</td>\n",
       "      <td>2014</td>\n",
       "      <td>50.0</td>\n",
       "      <td>NaN</td>\n",
       "      <td>NaN</td>\n",
       "    </tr>\n",
       "    <tr>\n",
       "      <th>2</th>\n",
       "      <td>1</td>\n",
       "      <td>Afghanistan</td>\n",
       "      <td>272</td>\n",
       "      <td>Badakhshan</td>\n",
       "      <td>266</td>\n",
       "      <td>Fayzabad</td>\n",
       "      <td>55</td>\n",
       "      <td>Bread - Retail</td>\n",
       "      <td>0</td>\n",
       "      <td>AFN</td>\n",
       "      <td>15</td>\n",
       "      <td>Retail</td>\n",
       "      <td>5</td>\n",
       "      <td>KG</td>\n",
       "      <td>3</td>\n",
       "      <td>2014</td>\n",
       "      <td>50.0</td>\n",
       "      <td>NaN</td>\n",
       "      <td>NaN</td>\n",
       "    </tr>\n",
       "    <tr>\n",
       "      <th>3</th>\n",
       "      <td>1</td>\n",
       "      <td>Afghanistan</td>\n",
       "      <td>272</td>\n",
       "      <td>Badakhshan</td>\n",
       "      <td>266</td>\n",
       "      <td>Fayzabad</td>\n",
       "      <td>55</td>\n",
       "      <td>Bread - Retail</td>\n",
       "      <td>0</td>\n",
       "      <td>AFN</td>\n",
       "      <td>15</td>\n",
       "      <td>Retail</td>\n",
       "      <td>5</td>\n",
       "      <td>KG</td>\n",
       "      <td>4</td>\n",
       "      <td>2014</td>\n",
       "      <td>50.0</td>\n",
       "      <td>NaN</td>\n",
       "      <td>NaN</td>\n",
       "    </tr>\n",
       "    <tr>\n",
       "      <th>4</th>\n",
       "      <td>1</td>\n",
       "      <td>Afghanistan</td>\n",
       "      <td>272</td>\n",
       "      <td>Badakhshan</td>\n",
       "      <td>266</td>\n",
       "      <td>Fayzabad</td>\n",
       "      <td>55</td>\n",
       "      <td>Bread - Retail</td>\n",
       "      <td>0</td>\n",
       "      <td>AFN</td>\n",
       "      <td>15</td>\n",
       "      <td>Retail</td>\n",
       "      <td>5</td>\n",
       "      <td>KG</td>\n",
       "      <td>5</td>\n",
       "      <td>2014</td>\n",
       "      <td>50.0</td>\n",
       "      <td>NaN</td>\n",
       "      <td>NaN</td>\n",
       "    </tr>\n",
       "  </tbody>\n",
       "</table>\n",
       "</div>"
      ],
      "text/plain": [
       "   adm0_id    adm0_name  adm1_id   adm1_name  mkt_id  mkt_name  cm_id  \\\n",
       "0        1  Afghanistan      272  Badakhshan     266  Fayzabad     55   \n",
       "1        1  Afghanistan      272  Badakhshan     266  Fayzabad     55   \n",
       "2        1  Afghanistan      272  Badakhshan     266  Fayzabad     55   \n",
       "3        1  Afghanistan      272  Badakhshan     266  Fayzabad     55   \n",
       "4        1  Afghanistan      272  Badakhshan     266  Fayzabad     55   \n",
       "\n",
       "          cm_name  cur_id cur_name  pt_id pt_name  um_id um_name  mp_month  \\\n",
       "0  Bread - Retail       0      AFN     15  Retail      5      KG         1   \n",
       "1  Bread - Retail       0      AFN     15  Retail      5      KG         2   \n",
       "2  Bread - Retail       0      AFN     15  Retail      5      KG         3   \n",
       "3  Bread - Retail       0      AFN     15  Retail      5      KG         4   \n",
       "4  Bread - Retail       0      AFN     15  Retail      5      KG         5   \n",
       "\n",
       "   mp_year  mp_price  mp_commoditysource  conversion_rate  \n",
       "0     2014      50.0                 NaN              NaN  \n",
       "1     2014      50.0                 NaN              NaN  \n",
       "2     2014      50.0                 NaN              NaN  \n",
       "3     2014      50.0                 NaN              NaN  \n",
       "4     2014      50.0                 NaN              NaN  "
      ]
     },
     "execution_count": 12,
     "metadata": {},
     "output_type": "execute_result"
    }
   ],
   "source": [
    "output.head(5)"
   ]
  },
  {
   "cell_type": "code",
   "execution_count": 14,
   "metadata": {},
   "outputs": [],
   "source": [
    "output = output[output['conversion_rate'].notna()]"
   ]
  },
  {
   "cell_type": "code",
   "execution_count": 15,
   "metadata": {},
   "outputs": [
    {
     "data": {
      "text/html": [
       "<div>\n",
       "<style scoped>\n",
       "    .dataframe tbody tr th:only-of-type {\n",
       "        vertical-align: middle;\n",
       "    }\n",
       "\n",
       "    .dataframe tbody tr th {\n",
       "        vertical-align: top;\n",
       "    }\n",
       "\n",
       "    .dataframe thead th {\n",
       "        text-align: right;\n",
       "    }\n",
       "</style>\n",
       "<table border=\"1\" class=\"dataframe\">\n",
       "  <thead>\n",
       "    <tr style=\"text-align: right;\">\n",
       "      <th></th>\n",
       "      <th>adm0_id</th>\n",
       "      <th>adm0_name</th>\n",
       "      <th>adm1_id</th>\n",
       "      <th>adm1_name</th>\n",
       "      <th>mkt_id</th>\n",
       "      <th>mkt_name</th>\n",
       "      <th>cm_id</th>\n",
       "      <th>cm_name</th>\n",
       "      <th>cur_id</th>\n",
       "      <th>cur_name</th>\n",
       "      <th>pt_id</th>\n",
       "      <th>pt_name</th>\n",
       "      <th>um_id</th>\n",
       "      <th>um_name</th>\n",
       "      <th>mp_month</th>\n",
       "      <th>mp_year</th>\n",
       "      <th>mp_price</th>\n",
       "      <th>mp_commoditysource</th>\n",
       "      <th>conversion_rate</th>\n",
       "    </tr>\n",
       "  </thead>\n",
       "  <tbody>\n",
       "    <tr>\n",
       "      <th>47965</th>\n",
       "      <td>115</td>\n",
       "      <td>Bassas da India</td>\n",
       "      <td>0</td>\n",
       "      <td>NaN</td>\n",
       "      <td>1887</td>\n",
       "      <td>National Average</td>\n",
       "      <td>52</td>\n",
       "      <td>Rice - Retail</td>\n",
       "      <td>0</td>\n",
       "      <td>INR</td>\n",
       "      <td>15</td>\n",
       "      <td>Retail</td>\n",
       "      <td>5</td>\n",
       "      <td>KG</td>\n",
       "      <td>7</td>\n",
       "      <td>2015</td>\n",
       "      <td>27.52</td>\n",
       "      <td>NaN</td>\n",
       "      <td>74.875528</td>\n",
       "    </tr>\n",
       "    <tr>\n",
       "      <th>47966</th>\n",
       "      <td>115</td>\n",
       "      <td>Bassas da India</td>\n",
       "      <td>0</td>\n",
       "      <td>NaN</td>\n",
       "      <td>1887</td>\n",
       "      <td>National Average</td>\n",
       "      <td>52</td>\n",
       "      <td>Rice - Retail</td>\n",
       "      <td>0</td>\n",
       "      <td>INR</td>\n",
       "      <td>15</td>\n",
       "      <td>Retail</td>\n",
       "      <td>5</td>\n",
       "      <td>KG</td>\n",
       "      <td>8</td>\n",
       "      <td>2015</td>\n",
       "      <td>27.34</td>\n",
       "      <td>NaN</td>\n",
       "      <td>74.875528</td>\n",
       "    </tr>\n",
       "    <tr>\n",
       "      <th>47967</th>\n",
       "      <td>115</td>\n",
       "      <td>Bassas da India</td>\n",
       "      <td>0</td>\n",
       "      <td>NaN</td>\n",
       "      <td>1887</td>\n",
       "      <td>National Average</td>\n",
       "      <td>52</td>\n",
       "      <td>Rice - Retail</td>\n",
       "      <td>0</td>\n",
       "      <td>INR</td>\n",
       "      <td>15</td>\n",
       "      <td>Retail</td>\n",
       "      <td>5</td>\n",
       "      <td>KG</td>\n",
       "      <td>9</td>\n",
       "      <td>2015</td>\n",
       "      <td>27.40</td>\n",
       "      <td>NaN</td>\n",
       "      <td>74.875528</td>\n",
       "    </tr>\n",
       "    <tr>\n",
       "      <th>47968</th>\n",
       "      <td>115</td>\n",
       "      <td>Bassas da India</td>\n",
       "      <td>0</td>\n",
       "      <td>NaN</td>\n",
       "      <td>1887</td>\n",
       "      <td>National Average</td>\n",
       "      <td>52</td>\n",
       "      <td>Rice - Retail</td>\n",
       "      <td>0</td>\n",
       "      <td>INR</td>\n",
       "      <td>15</td>\n",
       "      <td>Retail</td>\n",
       "      <td>5</td>\n",
       "      <td>KG</td>\n",
       "      <td>1</td>\n",
       "      <td>2016</td>\n",
       "      <td>27.06</td>\n",
       "      <td>NaN</td>\n",
       "      <td>74.875528</td>\n",
       "    </tr>\n",
       "    <tr>\n",
       "      <th>47969</th>\n",
       "      <td>115</td>\n",
       "      <td>Bassas da India</td>\n",
       "      <td>0</td>\n",
       "      <td>NaN</td>\n",
       "      <td>1887</td>\n",
       "      <td>National Average</td>\n",
       "      <td>52</td>\n",
       "      <td>Rice - Retail</td>\n",
       "      <td>0</td>\n",
       "      <td>INR</td>\n",
       "      <td>15</td>\n",
       "      <td>Retail</td>\n",
       "      <td>5</td>\n",
       "      <td>KG</td>\n",
       "      <td>2</td>\n",
       "      <td>2016</td>\n",
       "      <td>27.04</td>\n",
       "      <td>NaN</td>\n",
       "      <td>74.875528</td>\n",
       "    </tr>\n",
       "  </tbody>\n",
       "</table>\n",
       "</div>"
      ],
      "text/plain": [
       "       adm0_id        adm0_name  adm1_id adm1_name  mkt_id          mkt_name  \\\n",
       "47965      115  Bassas da India        0       NaN    1887  National Average   \n",
       "47966      115  Bassas da India        0       NaN    1887  National Average   \n",
       "47967      115  Bassas da India        0       NaN    1887  National Average   \n",
       "47968      115  Bassas da India        0       NaN    1887  National Average   \n",
       "47969      115  Bassas da India        0       NaN    1887  National Average   \n",
       "\n",
       "       cm_id        cm_name  cur_id cur_name  pt_id pt_name  um_id um_name  \\\n",
       "47965     52  Rice - Retail       0      INR     15  Retail      5      KG   \n",
       "47966     52  Rice - Retail       0      INR     15  Retail      5      KG   \n",
       "47967     52  Rice - Retail       0      INR     15  Retail      5      KG   \n",
       "47968     52  Rice - Retail       0      INR     15  Retail      5      KG   \n",
       "47969     52  Rice - Retail       0      INR     15  Retail      5      KG   \n",
       "\n",
       "       mp_month  mp_year  mp_price  mp_commoditysource  conversion_rate  \n",
       "47965         7     2015     27.52                 NaN        74.875528  \n",
       "47966         8     2015     27.34                 NaN        74.875528  \n",
       "47967         9     2015     27.40                 NaN        74.875528  \n",
       "47968         1     2016     27.06                 NaN        74.875528  \n",
       "47969         2     2016     27.04                 NaN        74.875528  "
      ]
     },
     "execution_count": 15,
     "metadata": {},
     "output_type": "execute_result"
    }
   ],
   "source": [
    "output.head(5)"
   ]
  },
  {
   "cell_type": "code",
   "execution_count": 30,
   "metadata": {},
   "outputs": [],
   "source": [
    "output.to_csv('/Users/narenkhatwani/Desktop/Resources_arkouda/food_csv_currency.csv', encoding='utf-8',index=False)"
   ]
  },
  {
   "cell_type": "code",
   "execution_count": 31,
   "metadata": {},
   "outputs": [
    {
     "name": "stderr",
     "output_type": "stream",
     "text": [
      "/Users/narenkhatwani/opt/anaconda3/lib/python3.8/site-packages/IPython/core/interactiveshell.py:3071: DtypeWarning: Columns (3) have mixed types.Specify dtype option on import or set low_memory=False.\n",
      "  has_raised = await self.run_ast_nodes(code_ast.body, cell_name,\n"
     ]
    }
   ],
   "source": [
    "df_check=pd.read_csv(\"/Users/narenkhatwani/Desktop/Resources_arkouda/food_csv_currency.csv\")"
   ]
  },
  {
   "cell_type": "code",
   "execution_count": 32,
   "metadata": {},
   "outputs": [
    {
     "data": {
      "text/html": [
       "<div>\n",
       "<style scoped>\n",
       "    .dataframe tbody tr th:only-of-type {\n",
       "        vertical-align: middle;\n",
       "    }\n",
       "\n",
       "    .dataframe tbody tr th {\n",
       "        vertical-align: top;\n",
       "    }\n",
       "\n",
       "    .dataframe thead th {\n",
       "        text-align: right;\n",
       "    }\n",
       "</style>\n",
       "<table border=\"1\" class=\"dataframe\">\n",
       "  <thead>\n",
       "    <tr style=\"text-align: right;\">\n",
       "      <th></th>\n",
       "      <th>adm0_id</th>\n",
       "      <th>adm0_name</th>\n",
       "      <th>adm1_id</th>\n",
       "      <th>adm1_name</th>\n",
       "      <th>mkt_id</th>\n",
       "      <th>mkt_name</th>\n",
       "      <th>cm_id</th>\n",
       "      <th>cm_name</th>\n",
       "      <th>cur_id</th>\n",
       "      <th>cur_name</th>\n",
       "      <th>pt_id</th>\n",
       "      <th>pt_name</th>\n",
       "      <th>um_id</th>\n",
       "      <th>um_name</th>\n",
       "      <th>mp_month</th>\n",
       "      <th>mp_year</th>\n",
       "      <th>mp_price</th>\n",
       "      <th>mp_commoditysource</th>\n",
       "      <th>conversion_rate</th>\n",
       "    </tr>\n",
       "  </thead>\n",
       "  <tbody>\n",
       "    <tr>\n",
       "      <th>0</th>\n",
       "      <td>115</td>\n",
       "      <td>Bassas da India</td>\n",
       "      <td>0</td>\n",
       "      <td>NaN</td>\n",
       "      <td>1887</td>\n",
       "      <td>National Average</td>\n",
       "      <td>52</td>\n",
       "      <td>Rice - Retail</td>\n",
       "      <td>0</td>\n",
       "      <td>INR</td>\n",
       "      <td>15</td>\n",
       "      <td>Retail</td>\n",
       "      <td>5</td>\n",
       "      <td>KG</td>\n",
       "      <td>7</td>\n",
       "      <td>2015</td>\n",
       "      <td>27.52</td>\n",
       "      <td>NaN</td>\n",
       "      <td>74.875528</td>\n",
       "    </tr>\n",
       "    <tr>\n",
       "      <th>1</th>\n",
       "      <td>115</td>\n",
       "      <td>Bassas da India</td>\n",
       "      <td>0</td>\n",
       "      <td>NaN</td>\n",
       "      <td>1887</td>\n",
       "      <td>National Average</td>\n",
       "      <td>52</td>\n",
       "      <td>Rice - Retail</td>\n",
       "      <td>0</td>\n",
       "      <td>INR</td>\n",
       "      <td>15</td>\n",
       "      <td>Retail</td>\n",
       "      <td>5</td>\n",
       "      <td>KG</td>\n",
       "      <td>8</td>\n",
       "      <td>2015</td>\n",
       "      <td>27.34</td>\n",
       "      <td>NaN</td>\n",
       "      <td>74.875528</td>\n",
       "    </tr>\n",
       "    <tr>\n",
       "      <th>2</th>\n",
       "      <td>115</td>\n",
       "      <td>Bassas da India</td>\n",
       "      <td>0</td>\n",
       "      <td>NaN</td>\n",
       "      <td>1887</td>\n",
       "      <td>National Average</td>\n",
       "      <td>52</td>\n",
       "      <td>Rice - Retail</td>\n",
       "      <td>0</td>\n",
       "      <td>INR</td>\n",
       "      <td>15</td>\n",
       "      <td>Retail</td>\n",
       "      <td>5</td>\n",
       "      <td>KG</td>\n",
       "      <td>9</td>\n",
       "      <td>2015</td>\n",
       "      <td>27.40</td>\n",
       "      <td>NaN</td>\n",
       "      <td>74.875528</td>\n",
       "    </tr>\n",
       "    <tr>\n",
       "      <th>3</th>\n",
       "      <td>115</td>\n",
       "      <td>Bassas da India</td>\n",
       "      <td>0</td>\n",
       "      <td>NaN</td>\n",
       "      <td>1887</td>\n",
       "      <td>National Average</td>\n",
       "      <td>52</td>\n",
       "      <td>Rice - Retail</td>\n",
       "      <td>0</td>\n",
       "      <td>INR</td>\n",
       "      <td>15</td>\n",
       "      <td>Retail</td>\n",
       "      <td>5</td>\n",
       "      <td>KG</td>\n",
       "      <td>1</td>\n",
       "      <td>2016</td>\n",
       "      <td>27.06</td>\n",
       "      <td>NaN</td>\n",
       "      <td>74.875528</td>\n",
       "    </tr>\n",
       "    <tr>\n",
       "      <th>4</th>\n",
       "      <td>115</td>\n",
       "      <td>Bassas da India</td>\n",
       "      <td>0</td>\n",
       "      <td>NaN</td>\n",
       "      <td>1887</td>\n",
       "      <td>National Average</td>\n",
       "      <td>52</td>\n",
       "      <td>Rice - Retail</td>\n",
       "      <td>0</td>\n",
       "      <td>INR</td>\n",
       "      <td>15</td>\n",
       "      <td>Retail</td>\n",
       "      <td>5</td>\n",
       "      <td>KG</td>\n",
       "      <td>2</td>\n",
       "      <td>2016</td>\n",
       "      <td>27.04</td>\n",
       "      <td>NaN</td>\n",
       "      <td>74.875528</td>\n",
       "    </tr>\n",
       "    <tr>\n",
       "      <th>5</th>\n",
       "      <td>115</td>\n",
       "      <td>Bassas da India</td>\n",
       "      <td>0</td>\n",
       "      <td>NaN</td>\n",
       "      <td>1887</td>\n",
       "      <td>National Average</td>\n",
       "      <td>52</td>\n",
       "      <td>Rice - Retail</td>\n",
       "      <td>0</td>\n",
       "      <td>INR</td>\n",
       "      <td>15</td>\n",
       "      <td>Retail</td>\n",
       "      <td>5</td>\n",
       "      <td>KG</td>\n",
       "      <td>3</td>\n",
       "      <td>2016</td>\n",
       "      <td>26.95</td>\n",
       "      <td>NaN</td>\n",
       "      <td>74.875528</td>\n",
       "    </tr>\n",
       "  </tbody>\n",
       "</table>\n",
       "</div>"
      ],
      "text/plain": [
       "   adm0_id        adm0_name  adm1_id adm1_name  mkt_id          mkt_name  \\\n",
       "0      115  Bassas da India        0       NaN    1887  National Average   \n",
       "1      115  Bassas da India        0       NaN    1887  National Average   \n",
       "2      115  Bassas da India        0       NaN    1887  National Average   \n",
       "3      115  Bassas da India        0       NaN    1887  National Average   \n",
       "4      115  Bassas da India        0       NaN    1887  National Average   \n",
       "5      115  Bassas da India        0       NaN    1887  National Average   \n",
       "\n",
       "   cm_id        cm_name  cur_id cur_name  pt_id pt_name  um_id um_name  \\\n",
       "0     52  Rice - Retail       0      INR     15  Retail      5      KG   \n",
       "1     52  Rice - Retail       0      INR     15  Retail      5      KG   \n",
       "2     52  Rice - Retail       0      INR     15  Retail      5      KG   \n",
       "3     52  Rice - Retail       0      INR     15  Retail      5      KG   \n",
       "4     52  Rice - Retail       0      INR     15  Retail      5      KG   \n",
       "5     52  Rice - Retail       0      INR     15  Retail      5      KG   \n",
       "\n",
       "   mp_month  mp_year  mp_price  mp_commoditysource  conversion_rate  \n",
       "0         7     2015     27.52                 NaN        74.875528  \n",
       "1         8     2015     27.34                 NaN        74.875528  \n",
       "2         9     2015     27.40                 NaN        74.875528  \n",
       "3         1     2016     27.06                 NaN        74.875528  \n",
       "4         2     2016     27.04                 NaN        74.875528  \n",
       "5         3     2016     26.95                 NaN        74.875528  "
      ]
     },
     "execution_count": 32,
     "metadata": {},
     "output_type": "execute_result"
    }
   ],
   "source": [
    "df_check.head(6)"
   ]
  },
  {
   "cell_type": "code",
   "execution_count": 44,
   "metadata": {
    "scrolled": true
   },
   "outputs": [
    {
     "name": "stdout",
     "output_type": "stream",
     "text": [
      "   adm0_id    adm0_name  adm1_id   adm1_name  mkt_id  mkt_name  cm_id  \\\n",
      "0        1  Afghanistan      272  Badakhshan     266  Fayzabad     55   \n",
      "1        1  Afghanistan      272  Badakhshan     266  Fayzabad     55   \n",
      "2        1  Afghanistan      272  Badakhshan     266  Fayzabad     55   \n",
      "3        1  Afghanistan      272  Badakhshan     266  Fayzabad     55   \n",
      "4        1  Afghanistan      272  Badakhshan     266  Fayzabad     55   \n",
      "\n",
      "          cm_name  cur_id cur_name  pt_id pt_name  um_id um_name  mp_month  \\\n",
      "0  Bread - Retail       0      AFN     15  Retail      5      KG         1   \n",
      "1  Bread - Retail       0      AFN     15  Retail      5      KG         2   \n",
      "2  Bread - Retail       0      AFN     15  Retail      5      KG         3   \n",
      "3  Bread - Retail       0      AFN     15  Retail      5      KG         4   \n",
      "4  Bread - Retail       0      AFN     15  Retail      5      KG         5   \n",
      "\n",
      "   mp_year  mp_price  mp_commoditysource  \n",
      "0     2014      50.0                 NaN  \n",
      "1     2014      50.0                 NaN  \n",
      "2     2014      50.0                 NaN  \n",
      "3     2014      50.0                 NaN  \n",
      "4     2014      50.0                 NaN  \n"
     ]
    }
   ],
   "source": []
  },
  {
   "cell_type": "markdown",
   "metadata": {},
   "source": [
    "# Importing Arkouda"
   ]
  },
  {
   "cell_type": "code",
   "execution_count": 8,
   "metadata": {
    "scrolled": true
   },
   "outputs": [
    {
     "name": "stdout",
     "output_type": "stream",
     "text": [
      "    _         _                   _       \n",
      "   / \\   _ __| | _____  _   _  __| | __ _ \n",
      "  / _ \\ | '__| |/ / _ \\| | | |/ _` |/ _` |\n",
      " / ___ \\| |  |   < (_) | |_| | (_| | (_| |\n",
      "/_/   \\_\\_|  |_|\\_\\___/ \\__,_|\\__,_|\\__,_|\n",
      "                                          \n",
      "\n",
      "Client Version: v2021.10.07+2.g1fd7670.dirty\n"
     ]
    }
   ],
   "source": [
    "import arkouda as ak"
   ]
  },
  {
   "cell_type": "code",
   "execution_count": 9,
   "metadata": {
    "scrolled": true
   },
   "outputs": [
    {
     "name": "stderr",
     "output_type": "stream",
     "text": [
      "/Users/narenkhatwani/Documents/GitHub/arkouda/arkouda/client.py:146: RuntimeWarning: Version mismatch between client (v2021.10.07+2.g1fd7670.dirty) and server (v2021.08.20+18.g7a657ad); this may cause some commands to fail or behave incorrectly! Updating arkouda is strongly recommended.\n",
      "  warnings.warn(('Version mismatch between client ({}) and server ({}); ' +\n",
      "connected to arkouda server tcp://*:5555\n"
     ]
    }
   ],
   "source": [
    "ak.connect(connect_url='tcp://MacBook-Pro-7.local:5555 ') #connecting to arkouda server"
   ]
  },
  {
   "cell_type": "markdown",
   "metadata": {},
   "source": [
    "## Conversion to .hdf file using Arkouda ( recommended )"
   ]
  },
  {
   "cell_type": "code",
   "execution_count": 10,
   "metadata": {},
   "outputs": [
    {
     "name": "stderr",
     "output_type": "stream",
     "text": [
      "/Users/narenkhatwani/opt/anaconda3/lib/python3.8/site-packages/IPython/core/interactiveshell.py:3071: DtypeWarning: Columns (3) have mixed types.Specify dtype option on import or set low_memory=False.\n",
      "  has_raised = await self.run_ast_nodes(code_ast.body, cell_name,\n"
     ]
    }
   ],
   "source": [
    "import pandas as pd\n",
    "import numpy as np\n",
    "pdgreen = pd.read_csv('/Users/narenkhatwani/Desktop/Resources_arkouda/food_csv_currency.csv')\n",
    "# transfer columns of DataFrame to arkouda\n",
    "def ak_create_akdict_from_df(df):\n",
    "    akdict = {}\n",
    "    for cname in df.keys():\n",
    "        if df[cname].dtype.name == 'object':\n",
    "            akdict[cname] = ak.from_series(df[cname],dtype=np.str)\n",
    "        else:\n",
    "            akdict[cname] = ak.from_series(df[cname])\n",
    "\n",
    "    return akdict\n"
   ]
  },
  {
   "cell_type": "markdown",
   "metadata": {},
   "source": [
    "### Passing the dataframe through the converter function to procure hdf file"
   ]
  },
  {
   "cell_type": "code",
   "execution_count": 11,
   "metadata": {},
   "outputs": [],
   "source": [
    "green_from_pandas = ak_create_akdict_from_df(pdgreen)"
   ]
  },
  {
   "cell_type": "code",
   "execution_count": 12,
   "metadata": {
    "scrolled": true
   },
   "outputs": [
    {
     "name": "stdout",
     "output_type": "stream",
     "text": [
      "{'adm0_id': array([115 115 115 ... 126 126 126]), 'adm0_name': array(['Bassas da India', 'Bassas da India', 'Bassas da India', ... , 'Japan', 'Japan', 'Japan']), 'adm1_id': array([0 0 0 ... 1690 1690 1690]), 'adm1_name': array(['nan', 'nan', 'nan', ... , 'Tookyoo', 'Tookyoo', 'Tookyoo']), 'mkt_id': array([1887 1887 1887 ... 2619 2619 2619]), 'mkt_name': array(['National Average', 'National Average', 'National Average', ... , 'Tokyo', 'Tokyo', 'Tokyo']), 'cm_id': array([52 52 52 ... 579 579 579]), 'cm_name': array(['Rice - Retail', 'Rice - Retail', 'Rice - Retail', ... , 'Radish - Retail', 'Radish - Retail', 'Radish - Retail']), 'cur_id': array([0 0 0 ... 0 0 0]), 'cur_name': array(['INR', 'INR', 'INR', ... , 'JPY', 'JPY', 'JPY']), 'pt_id': array([15 15 15 ... 15 15 15]), 'pt_name': array(['Retail', 'Retail', 'Retail', ... , 'Retail', 'Retail', 'Retail']), 'um_id': array([5 5 5 ... 5 5 5]), 'um_name': array(['KG', 'KG', 'KG', ... , 'KG', 'KG', 'KG']), 'mp_month': array([7 8 9 ... 7 8 9]), 'mp_year': array([2015 2015 2015 ... 2020 2020 2020]), 'mp_price': array([27.52 27.34 27.399999999999999 ... 200 216 200]), 'mp_commoditysource': array([nan nan nan ... nan nan nan]), 'conversion_rate': array([74.875528336064875 74.875528336064875 74.875528336064875 ... 113.60303631501768 113.60303631501768 113.60303631501768])}\n"
     ]
    }
   ],
   "source": [
    "print(green_from_pandas)"
   ]
  },
  {
   "cell_type": "code",
   "execution_count": 13,
   "metadata": {},
   "outputs": [],
   "source": [
    "data= green_from_pandas"
   ]
  },
  {
   "cell_type": "code",
   "execution_count": 14,
   "metadata": {},
   "outputs": [
    {
     "data": {
      "text/plain": [
       "array([115 115 115 ... 126 126 126])"
      ]
     },
     "execution_count": 14,
     "metadata": {},
     "output_type": "execute_result"
    }
   ],
   "source": [
    "data['adm0_id']"
   ]
  },
  {
   "cell_type": "markdown",
   "metadata": {},
   "source": [
    "# 3. Analysis part"
   ]
  },
  {
   "cell_type": "code",
   "execution_count": 24,
   "metadata": {},
   "outputs": [],
   "source": [
    "def describe(x):\n",
    "    fmt = 'mean: {}\\nstd : {}\\nmin : {}\\nmax : {}'\n",
    "    if x.dtype == ak.float64:\n",
    "        fmt = fmt.format(*['{:.2f}' for _ in range(4)])\n",
    "    print(fmt.format(x.mean(), x.std(), x.min(), x.max()))"
   ]
  },
  {
   "cell_type": "code",
   "execution_count": 25,
   "metadata": {},
   "outputs": [
    {
     "name": "stdout",
     "output_type": "stream",
     "text": [
      "mean: 11164.81\n",
      "std : 23931.57\n",
      "min : 0.09\n",
      "max : 201708.33\n"
     ]
    }
   ],
   "source": [
    "describe(data['mp_price'])"
   ]
  },
  {
   "cell_type": "code",
   "execution_count": 45,
   "metadata": {},
   "outputs": [
    {
     "data": {
      "text/plain": [
       "array([27.52 27.34 27.399999999999999 ... 200 216 200])"
      ]
     },
     "execution_count": 45,
     "metadata": {},
     "output_type": "execute_result"
    }
   ],
   "source": [
    "(data['mp_price'])"
   ]
  },
  {
   "cell_type": "code",
   "execution_count": null,
   "metadata": {},
   "outputs": [],
   "source": [
    "ak.get_datasets(data)"
   ]
  },
  {
   "cell_type": "markdown",
   "metadata": {},
   "source": [
    "# 4."
   ]
  },
  {
   "cell_type": "markdown",
   "metadata": {},
   "source": [
    "## Arkouda Configuration"
   ]
  },
  {
   "cell_type": "code",
   "execution_count": 49,
   "metadata": {},
   "outputs": [],
   "source": [
    "cfg=ak.get_config()"
   ]
  },
  {
   "cell_type": "code",
   "execution_count": 50,
   "metadata": {},
   "outputs": [
    {
     "data": {
      "text/plain": [
       "{'arkoudaVersion': 'v2021.08.20+18.g7a657ad',\n",
       " 'ZMQVersion': '4.3.2',\n",
       " 'HDF5Version': '1.12.1',\n",
       " 'serverHostname': 'MacBook-Pro-5.local',\n",
       " 'ServerPort': 5555,\n",
       " 'numLocales': 1,\n",
       " 'numPUs': 4,\n",
       " 'maxTaskPar': 4,\n",
       " 'physicalMemory': 8589934592,\n",
       " 'distributionType': 'domain(1,int(64),false)',\n",
       " 'LocaleConfigs': [{'id': 0,\n",
       "   'name': 'MacBook-Pro-5.local',\n",
       "   'numPUs': 4,\n",
       "   'maxTaskPar': 4,\n",
       "   'physicalMemory': 8589934592}],\n",
       " 'authenticate': False,\n",
       " 'logLevel': 'INFO',\n",
       " 'byteorder': 'little'}"
      ]
     },
     "execution_count": 50,
     "metadata": {},
     "output_type": "execute_result"
    }
   ],
   "source": [
    "cfg"
   ]
  }
 ],
 "metadata": {
  "kernelspec": {
   "display_name": "Python 3",
   "language": "python",
   "name": "python3"
  },
  "language_info": {
   "codemirror_mode": {
    "name": "ipython",
    "version": 3
   },
   "file_extension": ".py",
   "mimetype": "text/x-python",
   "name": "python",
   "nbconvert_exporter": "python",
   "pygments_lexer": "ipython3",
   "version": "3.8.3"
  }
 },
 "nbformat": 4,
 "nbformat_minor": 4
}
