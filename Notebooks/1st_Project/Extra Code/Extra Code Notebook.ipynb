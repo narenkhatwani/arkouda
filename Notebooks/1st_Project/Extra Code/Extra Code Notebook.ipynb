{
 "cells": [
  {
   "cell_type": "markdown",
   "metadata": {},
   "source": [
    "## Converting the two row to a dictionary for further replacement with the original csv file"
   ]
  },
  {
   "cell_type": "code",
   "execution_count": 1,
   "metadata": {},
   "outputs": [],
   "source": [
    "#market_code_array=pd.unique(df_marketcodes['mkt_name'])\n",
    "#market_code_list=market_code_array.tolist()\n",
    "#market_code_hash_table={k: v for v, k in enumerate(market_code_list)}\n",
    "#print(market_code_hash_table)\n",
    "#df=df.replace({\"mkt_name\":market_code_hash_table})\n",
    "#df.head(5)"
   ]
  },
  {
   "cell_type": "markdown",
   "metadata": {},
   "source": [
    "Object to String"
   ]
  },
  {
   "cell_type": "code",
   "execution_count": null,
   "metadata": {},
   "outputs": [],
   "source": [
    "#df_clean['adm0_name'] = df_clean['adm0_name'].astype('|S')\n",
    "#df_clean['cm_name'] = df_clean['cm_name'].astype('|S') \n",
    "#df_clean['cur_name'] = df_clean['cur_name'].astype('|S') \n",
    "#df_clean['pt_name'] = df_clean['pt_name'].astype('|S') \n",
    "#df_clean['um_name'] = df_clean['um_name'].astype('|S') "
   ]
  },
  {
   "cell_type": "code",
   "execution_count": null,
   "metadata": {},
   "outputs": [],
   "source": []
  },
  {
   "cell_type": "code",
   "execution_count": null,
   "metadata": {},
   "outputs": [],
   "source": []
  },
  {
   "cell_type": "code",
   "execution_count": null,
   "metadata": {},
   "outputs": [],
   "source": []
  },
  {
   "cell_type": "code",
   "execution_count": null,
   "metadata": {},
   "outputs": [],
   "source": []
  },
  {
   "cell_type": "code",
   "execution_count": null,
   "metadata": {},
   "outputs": [],
   "source": []
  },
  {
   "cell_type": "code",
   "execution_count": null,
   "metadata": {},
   "outputs": [],
   "source": []
  }
 ],
 "metadata": {
  "kernelspec": {
   "display_name": "Python 3",
   "language": "python",
   "name": "python3"
  },
  "language_info": {
   "codemirror_mode": {
    "name": "ipython",
    "version": 3
   },
   "file_extension": ".py",
   "mimetype": "text/x-python",
   "name": "python",
   "nbconvert_exporter": "python",
   "pygments_lexer": "ipython3",
   "version": "3.8.3"
  }
 },
 "nbformat": 4,
 "nbformat_minor": 4
}
